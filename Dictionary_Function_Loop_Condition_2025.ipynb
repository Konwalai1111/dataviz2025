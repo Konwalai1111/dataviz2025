{
  "nbformat": 4,
  "nbformat_minor": 0,
  "metadata": {
    "kernelspec": {
      "display_name": "Python 3",
      "language": "python",
      "name": "python3"
    },
    "language_info": {
      "codemirror_mode": {
        "name": "ipython",
        "version": 3
      },
      "file_extension": ".py",
      "mimetype": "text/x-python",
      "name": "python",
      "nbconvert_exporter": "python",
      "pygments_lexer": "ipython3",
      "version": "3.7.4"
    },
    "colab": {
      "provenance": [],
      "include_colab_link": true
    }
  },
  "cells": [
    {
      "cell_type": "markdown",
      "metadata": {
        "id": "view-in-github",
        "colab_type": "text"
      },
      "source": [
        "<a href=\"https://colab.research.google.com/github/Konwalai1111/dataviz2025/blob/main/Dictionary_Function_Loop_Condition_2025.ipynb\" target=\"_parent\"><img src=\"https://colab.research.google.com/assets/colab-badge.svg\" alt=\"Open In Colab\"/></a>"
      ]
    },
    {
      "cell_type": "markdown",
      "source": [
        "HW1 note"
      ],
      "metadata": {
        "id": "2wnVRxt7Qw8x"
      }
    },
    {
      "cell_type": "code",
      "source": [
        "inp = '12:30:15-13:41:07'\n",
        "inp_list = inp.split('-')\n",
        "inp_list"
      ],
      "metadata": {
        "colab": {
          "base_uri": "https://localhost:8080/"
        },
        "id": "7b9PZ1gTQ0EA",
        "outputId": "b9f21012-312d-450a-dec1-1ecc4893a91c"
      },
      "execution_count": null,
      "outputs": [
        {
          "output_type": "execute_result",
          "data": {
            "text/plain": [
              "['12:30:15', '13:41:07']"
            ]
          },
          "metadata": {},
          "execution_count": 1
        }
      ]
    },
    {
      "cell_type": "markdown",
      "source": [
        "# **Dictionary**"
      ],
      "metadata": {
        "id": "DtJqIdqpSr4v"
      }
    },
    {
      "cell_type": "code",
      "source": [
        "dict_a = {'abc':123,'def':456,'ghi':789}"
      ],
      "metadata": {
        "id": "t3Emdli2SxHm"
      },
      "execution_count": null,
      "outputs": []
    },
    {
      "cell_type": "code",
      "source": [
        "dict_a['def']"
      ],
      "metadata": {
        "colab": {
          "base_uri": "https://localhost:8080/"
        },
        "id": "hG5KBvYsTBng",
        "outputId": "64e81bba-5394-4b13-86df-550870c9501d"
      },
      "execution_count": null,
      "outputs": [
        {
          "output_type": "execute_result",
          "data": {
            "text/plain": [
              "456"
            ]
          },
          "metadata": {},
          "execution_count": 4
        }
      ]
    },
    {
      "cell_type": "code",
      "source": [
        "dict_b = {}"
      ],
      "metadata": {
        "id": "sXDhLD5yTUcl"
      },
      "execution_count": null,
      "outputs": []
    },
    {
      "cell_type": "code",
      "source": [
        "dict_b['a'] = 123"
      ],
      "metadata": {
        "id": "F-xn8xSvToue"
      },
      "execution_count": null,
      "outputs": []
    },
    {
      "cell_type": "code",
      "source": [
        "dict_b"
      ],
      "metadata": {
        "colab": {
          "base_uri": "https://localhost:8080/"
        },
        "id": "xFhl7oWKTafz",
        "outputId": "81f59243-fc32-481b-b388-31d92358033f"
      },
      "execution_count": null,
      "outputs": [
        {
          "output_type": "execute_result",
          "data": {
            "text/plain": [
              "{'a': 567}"
            ]
          },
          "metadata": {},
          "execution_count": 9
        }
      ]
    },
    {
      "cell_type": "code",
      "source": [
        "dict_b['a'] = 567"
      ],
      "metadata": {
        "id": "5P0-SMdNT8PM"
      },
      "execution_count": null,
      "outputs": []
    },
    {
      "cell_type": "markdown",
      "source": [
        "## **การ add สมาชิกเข้าไปใน dict**"
      ],
      "metadata": {
        "id": "W1konYjRUEkj"
      }
    },
    {
      "cell_type": "code",
      "source": [
        "if 'b' not in dict_b:\n",
        "    dict_b['b'] = 123"
      ],
      "metadata": {
        "id": "isY4SScqUOeC"
      },
      "execution_count": null,
      "outputs": []
    },
    {
      "cell_type": "code",
      "source": [
        "dict_b"
      ],
      "metadata": {
        "colab": {
          "base_uri": "https://localhost:8080/"
        },
        "id": "a1piEJTkUdAi",
        "outputId": "d8e64368-25e2-4ca8-b5e4-36298dc2d072"
      },
      "execution_count": null,
      "outputs": [
        {
          "output_type": "execute_result",
          "data": {
            "text/plain": [
              "{'a': 567, 'b': 123}"
            ]
          },
          "metadata": {},
          "execution_count": 17
        }
      ]
    },
    {
      "cell_type": "markdown",
      "metadata": {
        "id": "-57L9aVubPqU"
      },
      "source": [
        "# Function"
      ]
    },
    {
      "cell_type": "markdown",
      "metadata": {
        "id": "1DNzYhO4bPqb"
      },
      "source": [
        "## Function template\n",
        "#### ทำหน้าที่รับ input มาประมวณผลออกมาเป็น output\n",
        "#### f(x) = y"
      ]
    },
    {
      "cell_type": "markdown",
      "metadata": {
        "id": "3Nv1ZDEKbPqc"
      },
      "source": [
        "### def คือการกำหนดฟังก์ชัน"
      ]
    },
    {
      "cell_type": "markdown",
      "metadata": {
        "id": "DbHDoWEabPqc"
      },
      "source": [
        "```python\n",
        "    def function_name(_Input_) :\n",
        "        do_something with _Input_ to get _Output_\n",
        "        return _Output_\n",
        "```"
      ]
    },
    {
      "cell_type": "markdown",
      "metadata": {
        "id": "1fuimreqpVhU"
      },
      "source": [
        "เราใช้ เว้นวรรค (indent) เพื่อบอกขอบเขตของโปรแกรม"
      ]
    },
    {
      "cell_type": "markdown",
      "metadata": {
        "id": "kh2M1smCl5Iv"
      },
      "source": [
        "function มีส่วนสำคัญทั้งหมด 4 ส่วน\n",
        "\n",
        "1.   บอก python ว่าเราจะเขียนฟังก์ชั่น ชื่ออะไร  ```def function_name():``` (ขาดไม่ได้)\n",
        "2.   กำหนดตัวแปรที่จะเป็น input  ```_Input_``` (ขาดได้)\n",
        "3.   ส่วนประมวลผล ```do_something with _Input_ to get _Output_``` (ขาดไม่ได้)\n",
        "4.   ส่วน output ```return _Output_```(ขาดได้)\n",
        "\n"
      ]
    },
    {
      "cell_type": "markdown",
      "metadata": {
        "id": "lqWzVN5AbPqc"
      },
      "source": [
        "#### ตัวอย่างการเขียน normal function\n"
      ]
    },
    {
      "cell_type": "code",
      "source": [
        "def print_myname():   # ตัวอย่าง function ที่ไม่มีทั้ง input และ output\n",
        "    print('Konwalai')"
      ],
      "metadata": {
        "id": "6wzfVo_pTefO"
      },
      "execution_count": null,
      "outputs": []
    },
    {
      "cell_type": "code",
      "source": [
        "print_myname()"
      ],
      "metadata": {
        "colab": {
          "base_uri": "https://localhost:8080/"
        },
        "id": "482E9UnsUMkC",
        "outputId": "762e0d56-029d-4834-bf55-3a36e6697b26"
      },
      "execution_count": null,
      "outputs": [
        {
          "output_type": "stream",
          "name": "stdout",
          "text": [
            "Konwalai\n"
          ]
        }
      ]
    },
    {
      "cell_type": "code",
      "source": [
        "b = print_myname()"
      ],
      "metadata": {
        "colab": {
          "base_uri": "https://localhost:8080/"
        },
        "id": "YoBCsIw6aB5w",
        "outputId": "e747e4bf-0b6f-49af-df57-9cf18359830b"
      },
      "execution_count": null,
      "outputs": [
        {
          "output_type": "stream",
          "name": "stdout",
          "text": [
            "Konwalai\n"
          ]
        }
      ]
    },
    {
      "cell_type": "code",
      "source": [
        "b"
      ],
      "metadata": {
        "id": "zGvtnEOGaFbl"
      },
      "execution_count": null,
      "outputs": []
    },
    {
      "cell_type": "code",
      "metadata": {
        "id": "n706WULobPqc"
      },
      "source": [
        "def print_fullname(surname,ID,name):        # ตัวอย่าง function ที่ มี input หลายตัว กับ output 1 ตัว\n",
        "    st = f'ชื่อ {name} นามสกุล {surname} รหัส {ID}'\n",
        "    return st"
      ],
      "execution_count": null,
      "outputs": []
    },
    {
      "cell_type": "code",
      "metadata": {
        "colab": {
          "base_uri": "https://localhost:8080/",
          "height": 35
        },
        "id": "muh0pi_Gkym8",
        "outputId": "fd1c161e-f2f3-4dda-effc-c7c7f16332b5"
      },
      "source": [
        "print_fullname('แสนสิงห์','663020276-9','กรวลัย')"
      ],
      "execution_count": null,
      "outputs": [
        {
          "output_type": "execute_result",
          "data": {
            "text/plain": [
              "'ชื่อ กรวลัย นามสกุล แสนสิงห์ รหัส 663020276-9'"
            ],
            "application/vnd.google.colaboratory.intrinsic+json": {
              "type": "string"
            }
          },
          "metadata": {},
          "execution_count": 7
        }
      ]
    },
    {
      "cell_type": "code",
      "source": [
        "print_fullname(name='กรวลัย',surname='แสนสิงห์',ID='663020276-9')"
      ],
      "metadata": {
        "colab": {
          "base_uri": "https://localhost:8080/",
          "height": 35
        },
        "id": "vxooaHuHVTDJ",
        "outputId": "6314b40b-59ec-46a6-968a-ad40e8af8709"
      },
      "execution_count": null,
      "outputs": [
        {
          "output_type": "execute_result",
          "data": {
            "text/plain": [
              "'ชื่อ กรวลัย นามสกุล แสนสิงห์ รหัส 663020276-9'"
            ],
            "application/vnd.google.colaboratory.intrinsic+json": {
              "type": "string"
            }
          },
          "metadata": {},
          "execution_count": 8
        }
      ]
    },
    {
      "cell_type": "markdown",
      "metadata": {
        "id": "tSV-FUQBpx0i"
      },
      "source": [
        "ฟังก์ชั่นไม่จำเป็นต้องมี output"
      ]
    },
    {
      "cell_type": "code",
      "metadata": {
        "id": "loNAFSvLo5dC"
      },
      "source": [
        "def print_fullname2(surname,ID,name):\n",
        "    st = f'ชื่อ {name} นามสกุล {surname} รหัส {ID}'\n",
        "    print(st)"
      ],
      "execution_count": null,
      "outputs": []
    },
    {
      "cell_type": "code",
      "metadata": {
        "colab": {
          "base_uri": "https://localhost:8080/"
        },
        "id": "JE88oCj8o_j_",
        "outputId": "01c90a14-94e8-4f2a-d9f8-475d162235a0"
      },
      "source": [
        "print_name2(name='กาญจนา',surname='ประสาคุณ',ID='603021855-2')"
      ],
      "execution_count": null,
      "outputs": [
        {
          "output_type": "stream",
          "name": "stdout",
          "text": [
            "ชื่อ กาญจนา นามสกุล ประสาคุณ รหัส 603021855-2\n"
          ]
        }
      ]
    },
    {
      "cell_type": "markdown",
      "source": [
        "### ข้อแตกต่างระหว่าง function ที่มีและไม่มี output"
      ],
      "metadata": {
        "id": "dW328wxLWauv"
      }
    },
    {
      "cell_type": "code",
      "source": [
        "out_printname1 = print_name(name='กาญจนา',surname='ประสาคุณ',ID='603021855-2') # มี output\n",
        "print(out_printname1)"
      ],
      "metadata": {
        "colab": {
          "base_uri": "https://localhost:8080/"
        },
        "id": "Ae6C6-DTWFOD",
        "outputId": "ec7dc65e-2f40-4980-cede-49a0a8f0cf4f"
      },
      "execution_count": null,
      "outputs": [
        {
          "output_type": "stream",
          "name": "stdout",
          "text": [
            "ชื่อ กาญจนา นามสกุล ประสาคุณ รหัส 603021855-2\n"
          ]
        }
      ]
    },
    {
      "cell_type": "code",
      "source": [
        "out_printname1"
      ],
      "metadata": {
        "colab": {
          "base_uri": "https://localhost:8080/",
          "height": 56
        },
        "id": "yPtH94N0WtsE",
        "outputId": "51dfe456-120d-4a07-9c69-50f0d8dc2285"
      },
      "execution_count": null,
      "outputs": [
        {
          "output_type": "execute_result",
          "data": {
            "text/plain": [
              "'ชื่อ กาญจนา นามสกุล ประสาคุณ รหัส 603021855-2'"
            ],
            "application/vnd.google.colaboratory.intrinsic+json": {
              "type": "string"
            }
          },
          "metadata": {},
          "execution_count": 11
        }
      ]
    },
    {
      "cell_type": "code",
      "source": [
        "out_printname2 = print_name2(name='กาญจนา',surname='ประสาคุณ',ID='603021855-2')  # ไม่มี output\n",
        "print(out_printname2)"
      ],
      "metadata": {
        "colab": {
          "base_uri": "https://localhost:8080/"
        },
        "id": "AbT5pKVYWRBn",
        "outputId": "70cd4fcf-7509-4173-d281-2b4c4c8cce20"
      },
      "execution_count": null,
      "outputs": [
        {
          "output_type": "stream",
          "name": "stdout",
          "text": [
            "ชื่อ กาญจนา นามสกุล ประสาคุณ รหัส 603021855-2\n",
            "None\n"
          ]
        }
      ]
    },
    {
      "cell_type": "code",
      "source": [
        "out_printname2"
      ],
      "metadata": {
        "id": "l_fW68dyXDw3"
      },
      "execution_count": null,
      "outputs": []
    },
    {
      "cell_type": "markdown",
      "metadata": {
        "id": "JF4RdyEBqPyl"
      },
      "source": [
        "ฟังก์ชั่นไม่จำเป็นต้องมี input"
      ]
    },
    {
      "cell_type": "code",
      "metadata": {
        "id": "LNb_o_ZXo_gh"
      },
      "source": [
        "def Pi():\n",
        "    return 3.14159265359"
      ],
      "execution_count": null,
      "outputs": []
    },
    {
      "cell_type": "code",
      "metadata": {
        "colab": {
          "base_uri": "https://localhost:8080/"
        },
        "id": "htN6zLbFo_dr",
        "outputId": "4e015946-8d9d-4f9b-8b59-dc5ff0c325f8"
      },
      "source": [
        "Pi()*(2**2) # หาพื้นที่ของวงกลมที่มีรัศมีเท่ากับ Pi * r^2"
      ],
      "execution_count": null,
      "outputs": [
        {
          "output_type": "execute_result",
          "data": {
            "text/plain": [
              "12.56637061436"
            ]
          },
          "metadata": {
            "tags": []
          },
          "execution_count": 16
        }
      ]
    },
    {
      "cell_type": "markdown",
      "metadata": {
        "id": "ywc0Ho-_rUTu"
      },
      "source": [
        "## เราสามารถกำหนดค่า default ให้กับ input ของฟังก์ชั่นได้"
      ]
    },
    {
      "cell_type": "markdown",
      "metadata": {
        "id": "y_74dHkjxS7f"
      },
      "source": [
        "input ของ function ใน python มีสองแบบ input ที่จำเป็นต้องใส่ กับ input ที่ไม่จำเป็นต้องใส่ (มีค่า default)\n",
        "\n",
        "เราต้องเรียง input ที่จำเป็นต้องใส่ขึ้นก่อน"
      ]
    },
    {
      "cell_type": "code",
      "metadata": {
        "id": "0Lrh-6mAo_bA"
      },
      "source": [
        "def print_2lines_default(name,surname,ID,grade='F'):\n",
        "    st = f'ชื่อ {name} นามสกุล {surname} รหัส {ID}'\n",
        "    print (st)\n",
        "    st2=f'เกรดวิชา Data Viz >>> {grade}'\n",
        "    print(st2)"
      ],
      "execution_count": null,
      "outputs": []
    },
    {
      "cell_type": "code",
      "metadata": {
        "colab": {
          "base_uri": "https://localhost:8080/"
        },
        "id": "ZH31VIjko_WP",
        "outputId": "d8e92d52-2f96-4541-a0d7-00379f1cb015"
      },
      "source": [
        "print_2lines_default('ธันยาการต์','พวงมาลัย','613020551-8')"
      ],
      "execution_count": null,
      "outputs": [
        {
          "output_type": "stream",
          "name": "stdout",
          "text": [
            "ชื่อ ธันยาการต์ นามสกุล พวงมาลัย รหัส 613020551-8\n",
            "เกรดวิชา Data Viz >>> F\n"
          ]
        }
      ]
    },
    {
      "cell_type": "code",
      "metadata": {
        "colab": {
          "base_uri": "https://localhost:8080/"
        },
        "id": "FKGr2Iyuo_S2",
        "outputId": "54f0446e-0a63-403f-9490-4046a9cc4692"
      },
      "source": [
        "print_2lines_default('ธันยาการต์','พวงมาลัย','613020551-8','A')"
      ],
      "execution_count": null,
      "outputs": [
        {
          "output_type": "stream",
          "name": "stdout",
          "text": [
            "ชื่อ ธันยาการต์ นามสกุล พวงมาลัย รหัส 613020551-8\n",
            "เกรดวิชา Data Viz >>> A\n"
          ]
        }
      ]
    },
    {
      "cell_type": "code",
      "source": [
        "print_2lines_default('ธันยาการต์','พวงมาลัย','613020551-8',grade = 'A')"
      ],
      "metadata": {
        "colab": {
          "base_uri": "https://localhost:8080/"
        },
        "id": "Au_P2Cm8ZDXL",
        "outputId": "985b23d4-40d0-4fb4-aee3-12a8e07353ac"
      },
      "execution_count": null,
      "outputs": [
        {
          "output_type": "stream",
          "name": "stdout",
          "text": [
            "ชื่อ ธันยาการต์ นามสกุล พวงมาลัย รหัส 613020551-8\n",
            "เกรดวิชา Data Viz >>> A\n"
          ]
        }
      ]
    },
    {
      "cell_type": "code",
      "source": [
        "print_2lines_default('ธันยาการต์','พวงมาลัย')"
      ],
      "metadata": {
        "colab": {
          "base_uri": "https://localhost:8080/",
          "height": 158
        },
        "id": "cLGa_pO1Zv1U",
        "outputId": "656806dd-b1d3-41c7-b6cf-a549a55223ab"
      },
      "execution_count": null,
      "outputs": [
        {
          "output_type": "error",
          "ename": "TypeError",
          "evalue": "print_2lines_default() missing 1 required positional argument: 'ID'",
          "traceback": [
            "\u001b[0;31m---------------------------------------------------------------------------\u001b[0m",
            "\u001b[0;31mTypeError\u001b[0m                                 Traceback (most recent call last)",
            "\u001b[0;32m<ipython-input-17-800069358ecd>\u001b[0m in \u001b[0;36m<cell line: 1>\u001b[0;34m()\u001b[0m\n\u001b[0;32m----> 1\u001b[0;31m \u001b[0mprint_2lines_default\u001b[0m\u001b[0;34m(\u001b[0m\u001b[0;34m'ธันยาการต์'\u001b[0m\u001b[0;34m,\u001b[0m\u001b[0;34m'พวงมาลัย'\u001b[0m\u001b[0;34m)\u001b[0m\u001b[0;34m\u001b[0m\u001b[0;34m\u001b[0m\u001b[0m\n\u001b[0m",
            "\u001b[0;31mTypeError\u001b[0m: print_2lines_default() missing 1 required positional argument: 'ID'"
          ]
        }
      ]
    },
    {
      "cell_type": "markdown",
      "source": [
        "# Quiz5\n",
        "เขียน function ของ HW2\n",
        "commit\"quiz5\""
      ],
      "metadata": {
        "id": "Alh7JMwDa1k1"
      }
    },
    {
      "cell_type": "code",
      "source": [
        "# prompt: เขียน fuction คำนวณเวลาเป็นวินาทีจากเวลาที่ใส่เข้ามา\n",
        "\n",
        "def time_to_seconds(time_str):\n",
        "  \"\"\"\n",
        "  คำนวณเวลาเป็นวินาทีจากเวลาที่ใส่เข้ามาในรูปแบบ hh:mm:ss\n",
        "\n",
        "  Args:\n",
        "    time_str: เวลาในรูปแบบสตริง hh:mm:ss\n",
        "\n",
        "  Returns:\n",
        "    เวลาในหน่วยวินาที (จำนวนเต็ม)\n",
        "  \"\"\"\n",
        "  h, m, s = map(int, time_str.split(':'))\n",
        "  return h * 3600 + m * 60 + s\n",
        "\n",
        "def calculate_time_difference_seconds(time_range_str):\n",
        "  \"\"\"\n",
        "  คำนวณผลต่างเวลาเป็นวินาทีจากช่วงเวลาที่ใส่เข้ามาในรูปแบบ hh:mm:ss-hh:mm:ss\n",
        "\n",
        "  Args:\n",
        "    time_range_str: ช่วงเวลาในรูปแบบสตริง hh:mm:ss-hh:mm:ss\n",
        "\n",
        "  Returns:\n",
        "    ผลต่างเวลาในหน่วยวินาที (จำนวนเต็ม)\n",
        "  \"\"\"\n",
        "  start_time_str, end_time_str = time_range_str.split('-')\n",
        "  start_seconds = time_to_seconds(start_time_str)\n",
        "  end_seconds = time_to_seconds(end_time_str)\n",
        "  return end_seconds - start_seconds"
      ],
      "metadata": {
        "id": "Yf-uUETxbfcf"
      },
      "execution_count": null,
      "outputs": []
    },
    {
      "cell_type": "code",
      "source": [
        "# ตัวอย่างการใช้งาน function\n",
        "inp = '12:30:15-13:41:07'\n",
        "time_difference_seconds = calculate_time_difference_seconds(inp)\n",
        "print(f\"ผลต่างเวลาคือ {time_difference_seconds} วินาที\")"
      ],
      "metadata": {
        "colab": {
          "base_uri": "https://localhost:8080/"
        },
        "id": "bV6QXzHAcDCq",
        "outputId": "c2fce528-e953-41a0-b7fb-d6d3684fb616"
      },
      "execution_count": null,
      "outputs": [
        {
          "output_type": "stream",
          "name": "stdout",
          "text": [
            "ผลต่างเวลาคือ 4252 วินาที\n"
          ]
        }
      ]
    },
    {
      "cell_type": "code",
      "source": [
        "time_ranges = [\n",
        "    '18:09:10 - 18:25:10',\n",
        "    '13:38:39 - 23:54:39',\n",
        "    '16:49:58 - 18:05:58',\n",
        "    '21:49:10 - 22:24:10',\n",
        "    '08:52:21 - 09:25:21', # Corrected time string\n",
        "    '06:56:26 - 07:49:26',\n",
        "    '12:08:05 - 12:43:05',\n",
        "    '01:48:38 - 07:18:38',\n",
        "    '08:51:21 - 10:17:21',\n",
        "    '17:05:17 - 18:09:17'\n",
        "]\n",
        "\n",
        "for time_range in time_ranges:\n",
        "  time_difference_seconds = cal_dif_secs(time_range)\n",
        "  print(f\"ผลต่างเวลาคือ {time_difference_seconds} วินาที สำหรับช่วงเวลา {time_range}\")"
      ],
      "metadata": {
        "colab": {
          "base_uri": "https://localhost:8080/"
        },
        "id": "cdflPmiOdXtp",
        "outputId": "0f310628-3529-42f7-8a4f-f0a7eee7913b"
      },
      "execution_count": null,
      "outputs": [
        {
          "output_type": "stream",
          "name": "stdout",
          "text": [
            "ผลต่างเวลาคือ 960 วินาที สำหรับช่วงเวลา 18:09:10 - 18:25:10\n",
            "ผลต่างเวลาคือ 36960 วินาที สำหรับช่วงเวลา 13:38:39 - 23:54:39\n",
            "ผลต่างเวลาคือ 4560 วินาที สำหรับช่วงเวลา 16:49:58 - 18:05:58\n",
            "ผลต่างเวลาคือ 2100 วินาที สำหรับช่วงเวลา 21:49:10 - 22:24:10\n",
            "ผลต่างเวลาคือ 1980 วินาที สำหรับช่วงเวลา 08:52:21 - 09:25:21\n",
            "ผลต่างเวลาคือ 3180 วินาที สำหรับช่วงเวลา 06:56:26 - 07:49:26\n",
            "ผลต่างเวลาคือ 2100 วินาที สำหรับช่วงเวลา 12:08:05 - 12:43:05\n",
            "ผลต่างเวลาคือ 19800 วินาที สำหรับช่วงเวลา 01:48:38 - 07:18:38\n",
            "ผลต่างเวลาคือ 5160 วินาที สำหรับช่วงเวลา 08:51:21 - 10:17:21\n",
            "ผลต่างเวลาคือ 3840 วินาที สำหรับช่วงเวลา 17:05:17 - 18:09:17\n"
          ]
        }
      ]
    },
    {
      "cell_type": "code",
      "source": [
        "def cal_dif_secs(timeinput):\n",
        "    timelist = timeinput.split('-')\n",
        "    time1 = timelist[0].split(':')\n",
        "    time2 = timelist[1].split(':')\n",
        "    time1_sec = int(time1[0])*3600 + int(time1[1])*60 + int(time1[2])\n",
        "    time2_sec = int(time2[0])*3600 + int(time2[1])*60 + int(time2[2])\n",
        "    dif_sec = time2_sec - time1_sec\n",
        "    return dif_sec"
      ],
      "metadata": {
        "id": "Y_cPWPKzewFM"
      },
      "execution_count": null,
      "outputs": []
    },
    {
      "cell_type": "code",
      "source": [
        "cal_dif_secs('12:30:15-13:41:07')"
      ],
      "metadata": {
        "colab": {
          "base_uri": "https://localhost:8080/"
        },
        "id": "1lO3BaYJfUuF",
        "outputId": "f52829c6-df15-49ff-f993-8acf9d3ad6f3"
      },
      "execution_count": null,
      "outputs": [
        {
          "output_type": "execute_result",
          "data": {
            "text/plain": [
              "4252"
            ]
          },
          "metadata": {},
          "execution_count": 14
        }
      ]
    },
    {
      "cell_type": "code",
      "source": [
        "def time_to_seconds(time_str):\n",
        "    parts = time_str.split(\":\")   # ['12', '30', '15']\n",
        "    ints = []\n",
        "    for p in parts:\n",
        "        ints.append(int(p))\n",
        "    h, m, s = ints\n",
        "    return h * 3600 + m * 60 + s\n",
        "\n",
        "list = [\n",
        "     '18:09:10 - 18:25:10',\n",
        "    '13:38:39 - 23:54:39',\n",
        "    '16:49:58 - 18:05:58',\n",
        "    '21:49:10 - 22:24:10',\n",
        "    '08:52:21 - 09:25:21', # Corrected time string\n",
        "    '06:56:26 - 07:49:26',\n",
        "    '12:08:05 - 12:43:05',\n",
        "    '01:48:38 - 07:18:38',\n",
        "    '08:51:21 - 10:17:21',\n",
        "    '17:05:17 - 18:09:17'\n",
        "]\n",
        "\n",
        "for line in list:\n",
        "    time1_str, time2_str = line.split(\" - \")\n",
        "    sec1 = time_to_seconds(time1_str)\n",
        "    sec2 = time_to_seconds(time2_str)\n",
        "    diff = sec2 - sec1\n",
        "    print(f\"{line} => {diff} วินาที\")"
      ],
      "metadata": {
        "colab": {
          "base_uri": "https://localhost:8080/"
        },
        "id": "kc_pNwGNep2l",
        "outputId": "2c04b216-114a-4655-c06b-0b1fcfb8e898"
      },
      "execution_count": null,
      "outputs": [
        {
          "output_type": "stream",
          "name": "stdout",
          "text": [
            "18:09:10 - 18:25:10 => 960 วินาที\n",
            "13:38:39 - 23:54:39 => 36960 วินาที\n",
            "16:49:58 - 18:05:58 => 4560 วินาที\n",
            "21:49:10 - 22:24:10 => 2100 วินาที\n",
            "08:52:21 - 09:25:21 => 1980 วินาที\n",
            "06:56:26 - 07:49:26 => 3180 วินาที\n",
            "12:08:05 - 12:43:05 => 2100 วินาที\n",
            "01:48:38 - 07:18:38 => 19800 วินาที\n",
            "08:51:21 - 10:17:21 => 5160 วินาที\n",
            "17:05:17 - 18:09:17 => 3840 วินาที\n"
          ]
        }
      ]
    },
    {
      "cell_type": "markdown",
      "source": [
        "# Quiz6\n",
        "เขียน function ของ HW2 -> มีการใช้ค่า defult ของ input โดยถ้าวันที่กรอกเป็นวันเดียวกัน ไม่ต้องกรอกเลยหรือกรอกแค่ 1 ตัว\n",
        "\n",
        "commit\"quiz6\""
      ],
      "metadata": {
        "id": "s0fexR9jfxs2"
      }
    },
    {
      "cell_type": "code",
      "source": [
        "# prompt: สร้าง function คำนวณ จำนวนวินาทีที่แตกต่างระหว่าง input hh:mm:ss, day in week\n",
        "\n",
        "from datetime import datetime, timedelta\n",
        "\n",
        "def calculate_time_difference_with_day(time_str1, time_str2, day1=None, day2=None):\n",
        "  \"\"\"\n",
        "  คำนวณจำนวนวินาทีที่แตกต่างระหว่างเวลาและวันในสัปดาห์\n",
        "\n",
        "  Args:\n",
        "    time_str1: เวลาเริ่มต้นในรูปแบบสตริง 'HH:MM:SS'\n",
        "    time_str2: เวลาสิ้นสุดในรูปแบบสตริง 'HH:MM:SS'\n",
        "    day1: วันเริ่มต้นในสัปดาห์ (0=จันทร์, 6=อาทิตย์). ถ้าไม่ได้ระบุ หรือระบุเป็น None จะถือว่าเป็นวันเดียวกันกับ day2\n",
        "    day2: วันสิ้นสุดในสัปดาห์ (0=จันทร์, 6=อาทิตย์). ถ้าไม่ได้ระบุ หรือระบุเป็น None และ day1 ไม่ได้ระบุ จะถือว่าเป็นวันเดียวกัน\n",
        "\n",
        "  Returns:\n",
        "    จำนวนวินาทีที่แตกต่าง (จำนวนเต็ม).\n",
        "  \"\"\"\n",
        "  # กำหนดวันเริ่มต้นและสิ้นสุด ถ้าไม่ได้ระบุ\n",
        "  if day1 is None and day2 is None:\n",
        "      day1 = 0\n",
        "      day2 = 0\n",
        "  elif day1 is None:\n",
        "      day1 = day2\n",
        "  elif day2 is None:\n",
        "      day2 = day1\n",
        "\n",
        "  # แปลงเวลาและวันเป็นอ็อบเจกต์ datetime\n",
        "  # กำหนดวันที่ 1900-01-01 เป็นวันที่อ้างอิง (วันจันทร์) เพื่อให้สามารถใช้ timedelta ในการคำนวณวันได้ง่าย\n",
        "  start_dt = datetime(1900, 1, 1) + timedelta(days=day1)\n",
        "  end_dt = datetime(1900, 1, 1) + timedelta(days=day2)\n",
        "\n",
        "  # แยก ชั่วโมง นาที วินาที\n",
        "  h1, m1, s1 = map(int, time_str1.split(':'))\n",
        "  h2, m2, s2 = map(int, time_str2.split(':'))\n",
        "\n",
        "  # เพิ่มเวลาเข้าไปในอ็อบเจกต์ datetime\n",
        "  start_dt = start_dt.replace(hour=h1, minute=m1, second=s1)\n",
        "  end_dt = end_dt.replace(hour=h2, minute=m2, second=s2)\n",
        "\n",
        "  # คำนวณผลต่างเวลาเป็นวินาที\n",
        "  time_difference = end_dt - start_dt\n",
        "\n",
        "  return int(time_difference.total_seconds())\n",
        "\n",
        "# ตัวอย่างการใช้งาน\n",
        "# วันเดียวกัน\n",
        "print(f\"ผลต่างเวลา (วันเดียวกัน): {calculate_time_difference_with_day('12:30:00', '13:00:00')} วินาที\")\n",
        "print(f\"ผลต่างเวลา (วันเดียวกัน): {calculate_time_difference_with_day('12:30:00', '13:00:00', day1=2)} วินาที\") # ระบุวันเริ่มต้น\n",
        "print(f\"ผลต่างเวลา (วันเดียวกัน): {calculate_time_difference_with_day('12:30:00', '13:00:00', day2=2)} วินาที\") # ระบุวันสิ้นสุด\n",
        "\n",
        "# คนละวัน\n",
        "print(f\"ผลต่างเวลา (ข้ามวัน): {calculate_time_difference_with_day('23:00:00', '01:00:00', day1=1, day2=2)} วินาที\")\n",
        "print(f\"ผลต่างเวลา (ข้ามวัน): {calculate_time_difference_with_day('23:00:00', '01:00:00', day1=6, day2=0)} วินาที\") # ข้ามสัปดาห์\n",
        "\n"
      ],
      "metadata": {
        "id": "vXdQL50SQZ5-",
        "colab": {
          "base_uri": "https://localhost:8080/"
        },
        "outputId": "1900878f-70cb-4f82-a5e4-d486e1df042c"
      },
      "execution_count": null,
      "outputs": [
        {
          "output_type": "stream",
          "name": "stdout",
          "text": [
            "ผลต่างเวลา (วันเดียวกัน): 1800 วินาที\n",
            "ผลต่างเวลา (วันเดียวกัน): 1800 วินาที\n",
            "ผลต่างเวลา (วันเดียวกัน): 1800 วินาที\n",
            "ผลต่างเวลา (ข้ามวัน): 7200 วินาที\n",
            "ผลต่างเวลา (ข้ามวัน): -597600 วินาที\n"
          ]
        }
      ]
    },
    {
      "cell_type": "code",
      "source": [
        "# prompt: เขียน function ของ HW2 ใช้ค่า defult ของ input โดยถ้าวันที่กรอกเป็นวันเดียวกัน ไม่ต้องกรอกเลยหรือกรอกแค่ 1 ตัว\n",
        "\n",
        "def calculate_time_difference_with_date(time_range_str, date_str=None):\n",
        "    \"\"\"\n",
        "    คำนวณผลต่างเวลาเป็นวินาทีจากช่วงเวลาที่ใส่เข้ามาในรูปแบบ hh:mm:ss-hh:mm:ss\n",
        "    และรองรับการระบุวันที่ ถ้าวันที่เริ่มต้นและวันที่สิ้นสุดเป็นวันเดียวกัน\n",
        "    สามารถเว้นการระบุวันที่สำหรับวันที่สองได้ หรือระบุเพียงครั้งเดียว\n",
        "\n",
        "    Args:\n",
        "      time_range_str: ช่วงเวลาในรูปแบบสตริง hh:mm:ss-hh:mm:ss\n",
        "      date_str: วันที่ในรูปแบบสตริง เช่น 'YYYY-MM-DD' หรือ 'DD/MM/YYYY' (เป็นค่า default คือ None)\n",
        "                ถ้าเป็นช่วงเวลาในวันเดียวกัน สามารถใส่ None, ใส่เฉพาะวันที่แรก,\n",
        "                หรือใส่ทั้งสองวันโดยคั่นด้วย '-' เช่น 'YYYY-MM-DD - YYYY-MM-DD'\n",
        "                ถ้าใส่เพียงวันที่เดียว 'YYYY-MM-DD' จะถือว่าเป็นวันที่เริ่มต้นและสิ้นสุด\n",
        "                ถ้าใส่เป็น None จะถือว่าเป็นวันเดียวกันทั้งหมด\n",
        "\n",
        "    Returns:\n",
        "      ผลต่างเวลาในหน่วยวินาที (จำนวนเต็ม)\n",
        "    \"\"\"\n",
        "\n",
        "    # แยกเวลาเริ่มต้นและเวลาสิ้นสุด\n",
        "    time_parts = time_range_str.split('-')\n",
        "    start_time_str = time_parts[0].strip()\n",
        "    end_time_str = time_parts[1].strip()\n",
        "\n",
        "    # แยกวันที่เริ่มต้นและวันที่สิ้นสุด\n",
        "    start_date_str = None\n",
        "    end_date_str = None\n",
        "\n",
        "    if date_str is not None:\n",
        "        date_parts = date_str.split('-')\n",
        "        if len(date_parts) == 1:\n",
        "            # ถ้าใส่มาแค่ 1 วัน ถือว่าเป็นวันเดียวกัน\n",
        "            start_date_str = date_parts[0].strip()\n",
        "            end_date_str = date_parts[0].strip()\n",
        "        elif len(date_parts) == 2:\n",
        "            # ถ้าใส่มา 2 วัน\n",
        "            start_date_str = date_parts[0].strip()\n",
        "            end_date_str = date_parts[1].strip()\n",
        "        # ถ้า len(date_parts) == 0 แสดงว่า date_str เป็นสตริงว่าง หรืออื่นๆที่ไม่ใช่ -\n",
        "        # ซึ่งในกรณีนี้จะถือว่าไม่ได้ระบุวันที่ และเข้าเงื่อนไขด้านล่าง\n",
        "\n",
        "    # ถ้าไม่ได้ระบุวันที่ หรือระบุวันที่เดียว ถือว่าเป็นวันเดียวกัน\n",
        "    if start_date_str is None or start_date_str == end_date_str:\n",
        "        start_seconds = time_to_seconds(start_time_str)\n",
        "        end_seconds = time_to_seconds(end_time_str)\n",
        "        return end_seconds - start_seconds\n",
        "    else:\n",
        "        # ถ้ามีวันที่และวันที่เริ่มต้นและสิ้นสุดต่างกัน จะต้องแปลงวันที่เป็น timestamp ด้วย\n",
        "        # ในตัวอย่างนี้จะสมมติว่าเรามีฟังก์ชันแปลงวันที่และเวลาเป็นวินาทีตั้งแต่ epoch\n",
        "        # ซึ่งต้องใช้ library เช่น datetime\n",
        "        from datetime import datetime\n",
        "\n",
        "        # ลองสมมติ format ของวันที่\n",
        "        date_format = '%Y-%m-%d' # หรือ '%d/%m/%Y' ตามต้องการ\n",
        "\n",
        "        try:\n",
        "            start_datetime_str = f\"{start_date_str} {start_time_str}\"\n",
        "            end_datetime_str = f\"{end_date_str} {end_time_str}\"\n",
        "\n",
        "            start_datetime = datetime.strptime(start_datetime_str, f\"{date_format} %H:%M:%S\")\n",
        "            end_datetime = datetime.strptime(end_datetime_str, f\"{date_format} %H:%M:%S\")\n",
        "\n",
        "            time_difference = (end_datetime - start_datetime).total_seconds()\n",
        "            return int(time_difference)\n",
        "\n",
        "        except ValueError as e:\n",
        "            print(f\"Error parsing date or time: {e}\")\n",
        "            print(\"Please ensure the date format is correct and matches the input.\")\n",
        "            return None # หรือ raise Exception ตามความเหมาะสม\n",
        "\n",
        "# ตัวอย่างการใช้งาน\n",
        "print(\"ตัวอย่างการใช้งาน function calculate_time_difference_with_date:\")\n",
        "\n",
        "# กรณีที่ไม่ระบุวันที่ (ถือว่าเป็นวันเดียวกัน)\n",
        "time_range_same_day = '12:30:15-13:41:07'\n",
        "diff_same_day_no_date = calculate_time_difference_with_date(time_range_same_day)\n",
        "print(f\"เวลา: {time_range_same_day}, ผลต่าง (ไม่ระบุวันที่): {diff_same_day_no_date} วินาที\")\n",
        "\n",
        "# กรณีระบุวันที่เดียว (ถือว่าเป็นวันเดียวกัน)\n",
        "time_range_same_day = '12:30:15-13:41:07'\n",
        "date_same_day = '2023-10-27'\n",
        "diff_same_day_one_date = calculate_time_difference_with_date(time_range_same_day, date_same_day)\n",
        "print(f\"เวลา: {time_range_same_day}, วันที่: {date_same_day}, ผลต่าง (ระบุวันที่เดียว): {diff_same_day_one_date} วินาที\")\n",
        "\n",
        "# กรณีระบุวันที่เริ่มต้นและสิ้นสุดเหมือนกัน\n",
        "time_range_same_day = '12:30:15-13:41:07'\n",
        "date_same_day_split = '2023-10-27 - 2023-10-27'\n",
        "diff_same_day_split_date = calculate_time_difference_with_date(time_range_same_day, date_same_day_split)\n",
        "print(f\"เวลา: {time_range_same_day}, วันที่: {date_same_day_split}, ผลต่าง (ระบุวันที่เริ่มต้น-สิ้นสุด เหมือนกัน): {diff_same_day_split_date} วินาที\")\n",
        "\n",
        "\n",
        "# กรณีระบุวันที่เริ่มต้นและสิ้นสุดต่างกัน\n",
        "time_range_different_day = '23:00:00-01:00:00'\n",
        "date_different_day = '2023-10-27 - 2023-10-28'\n",
        "diff_different_day = calculate_time_difference_with_date(time_range_different_day, date_different_day)\n",
        "print(f\"เวลา: {time_range_different_day}, วันที่: {date_different_day}, ผลต่าง (ระบุวันที่เริ่มต้น-สิ้นสุด ต่างกัน): {diff_different_day} วินาที\")\n",
        "\n",
        "# ตัวอย่างการใช้งานกับ list ของช่วงเวลา\n",
        "time_ranges_with_dates = [\n",
        "    ('18:09:10 - 18:25:10', None), # วันเดียวกัน ไม่ระบุวันที่\n",
        "    ('13:38:39 - 23:54:39', '2023-10-27'), # วันเดียวกัน ระบุวันที่เดียว\n",
        "    ('16:49:58 - 18:05:58', '2023-10-27 - 2023-10-27'), # วันเดียวกัน ระบุวันที่เริ่มต้น-สิ้นสุดเหมือนกัน\n",
        "    ('21:49:10 - 22:24:10', '2023-10-27'),\n",
        "    ('08:52:21 - 09:25:21', None),\n",
        "    ('06:56:26 - 07:49:26', '2023-10-28'),\n",
        "    ('12:08:05 - 12:43:05', '2023-10-28 - 2023-10-28'),\n",
        "    ('01:48:38 - 07:18:38', '2023-10-28'),\n",
        "    ('08:51:21 - 10:17:21', '2023-10-28'),\n",
        "    ('17:05:17 - 18:09:17', None),\n",
        "    ('23:00:00 - 01:00:00', '2023-10-28 - 2023-10-29') # ข้ามวัน\n",
        "]\n",
        "\n",
        "print(\"\\nผลต่างเวลาสำหรับ list ของช่วงเวลา:\")\n",
        "for time_range, date_str in time_ranges_with_dates:\n",
        "    diff = calculate_time_difference_with_date(time_range, date_str)\n",
        "    print(f\"เวลา: {time_range}, วันที่: {date_str}, ผลต่าง: {diff} วินาที\")"
      ],
      "metadata": {
        "colab": {
          "base_uri": "https://localhost:8080/"
        },
        "id": "J1vnf0DFgnEP",
        "outputId": "1f9da414-2116-464f-c3f3-97b7ae2f90d8"
      },
      "execution_count": null,
      "outputs": [
        {
          "output_type": "stream",
          "name": "stdout",
          "text": [
            "ตัวอย่างการใช้งาน function calculate_time_difference_with_date:\n",
            "เวลา: 12:30:15-13:41:07, ผลต่าง (ไม่ระบุวันที่): 4252 วินาที\n",
            "เวลา: 12:30:15-13:41:07, วันที่: 2023-10-27, ผลต่าง (ระบุวันที่เดียว): 4252 วินาที\n",
            "เวลา: 12:30:15-13:41:07, วันที่: 2023-10-27 - 2023-10-27, ผลต่าง (ระบุวันที่เริ่มต้น-สิ้นสุด เหมือนกัน): 4252 วินาที\n",
            "เวลา: 23:00:00-01:00:00, วันที่: 2023-10-27 - 2023-10-28, ผลต่าง (ระบุวันที่เริ่มต้น-สิ้นสุด ต่างกัน): -79200 วินาที\n",
            "\n",
            "ผลต่างเวลาสำหรับ list ของช่วงเวลา:\n",
            "เวลา: 18:09:10 - 18:25:10, วันที่: None, ผลต่าง: 960 วินาที\n",
            "เวลา: 13:38:39 - 23:54:39, วันที่: 2023-10-27, ผลต่าง: 36960 วินาที\n",
            "เวลา: 16:49:58 - 18:05:58, วันที่: 2023-10-27 - 2023-10-27, ผลต่าง: 4560 วินาที\n",
            "เวลา: 21:49:10 - 22:24:10, วันที่: 2023-10-27, ผลต่าง: 2100 วินาที\n",
            "เวลา: 08:52:21 - 09:25:21, วันที่: None, ผลต่าง: 1980 วินาที\n",
            "เวลา: 06:56:26 - 07:49:26, วันที่: 2023-10-28, ผลต่าง: 3180 วินาที\n",
            "เวลา: 12:08:05 - 12:43:05, วันที่: 2023-10-28 - 2023-10-28, ผลต่าง: 2100 วินาที\n",
            "เวลา: 01:48:38 - 07:18:38, วันที่: 2023-10-28, ผลต่าง: 19800 วินาที\n",
            "เวลา: 08:51:21 - 10:17:21, วันที่: 2023-10-28, ผลต่าง: 5160 วินาที\n",
            "เวลา: 17:05:17 - 18:09:17, วันที่: None, ผลต่าง: 3840 วินาที\n",
            "เวลา: 23:00:00 - 01:00:00, วันที่: 2023-10-28 - 2023-10-29, ผลต่าง: -79200 วินาที\n"
          ]
        }
      ]
    },
    {
      "cell_type": "markdown",
      "source": [
        "# HW3 เพิ่ม loop เข้าไปใน Quiz 6 โดยวนลูป คำนวณ วินาที ในโจทย์ต่อไปนี้"
      ],
      "metadata": {
        "id": "1hvyNLkjSuk6"
      }
    },
    {
      "cell_type": "markdown",
      "source": [
        "```\n",
        "[\n",
        "    (\"10:00:00\", \"Monday\", \"11:30:00\", 5400),  # Same day, later time\n",
        "    (\"11:30:00\", \"Monday\", \"10:00:00\", \"Monday\", 5400),  # Same day, earlier time\n",
        "    (\"23:00:00\", \"Sunday\", \"01:00:00\", , 7200),  # Cross midnight\n",
        "    (\"01:00:00\", \"Monday\", \"23:00:00\", \"Sunday\", 7200),  # Cross midnight (reverse)\n",
        "    (\"10:00:00\", \"Tuesday\", \"11:30:00\", \"Thursday\", 178200), # Multiple days difference\n",
        "    (\"11:30:00\", \"Thursday\", \"10:00:00\", \"Tuesday\", 178200), # Multiple days difference (reverse)\n",
        "    (\"12:00:00\", \"Monday\", \"12:00:00\", \"Monday\", 0),      # Same time, same day\n",
        "    (\"12:00:00\", \"Monday\", \"12:00:00\", \"Tuesday\", 24*3600), # Same time, next day\n",
        "    (\"00:00:00\", \"Monday\", \"23:59:59\", , 24*3600 - 1), # Almost 24 hours later\n",
        "    (\"23:59:59\", \"Sunday\", \"00:00:00\", \"Monday\", 1),       # One second difference across midnight\n",
        "]\n",
        "```"
      ],
      "metadata": {
        "id": "KKVTHhZY_jzM"
      }
    },
    {
      "cell_type": "code",
      "source": [
        "#promt loop เข้าไปใน Quiz 6 โดยวนลูป คำนวณ วินาที ในโจทย์ต่อไปนี้\n",
        "def cal_diff_secs(timeinput):\n",
        "    days_order = ['Monday', 'Tuesday', 'Wednesday', 'Thursday', 'Friday', 'Saturday', 'Sunday']\n",
        "\n",
        "    # แปลงเวลาเป็นวินาที\n",
        "    h1, m1, s1 = map(int, time1_str.split(':'))\n",
        "    h2, m2, s2 = map(int, time2_str.split(':'))\n",
        "    time1_sec = h1 * 3600 + m1 * 60 + s1\n",
        "    time2_sec = h2 * 3600 + m2 * 60 + s2\n",
        "\n",
        "    # ไม่ระบุวัน\n",
        "    if day1 is None and day2 is None:\n",
        "        if time2_sec < time1_sec:\n",
        "            time2_sec += 86400  # เพิ่ม 1 วัน\n",
        "        return time2_sec - time1_sec\n",
        "\n",
        "    # ระบุวัน\n",
        "    if day1 is not None and day2 is None:\n",
        "        day1_index = days_order.index(day1)\n",
        "        day2_index = day1_index\n",
        "    elif day1 is None and day2 is not None:\n",
        "        day2_index = days_order.index(day2)\n",
        "        day1_index = day2_index\n",
        "    else:\n",
        "        day1_index = days_order.index(day1)\n",
        "        day2_index = days_order.index(day2)\n",
        "\n",
        "    time1_total = time1_sec + (day1_index * 86400)\n",
        "    time2_total = time2_sec + (day2_index * 86400)\n",
        "\n",
        "    if time2_total < time1_total:\n",
        "        time2_total += 7 * 86400  # next week\n",
        "\n",
        "    return time2_total - time1_total"
      ],
      "metadata": {
        "id": "b_hZvaVqJzfu"
      },
      "execution_count": null,
      "outputs": []
    },
    {
      "cell_type": "code",
      "source": [
        "list_d = [ \"10:00:00,Monday - 11:30:00\",\n",
        "            \"11:30:00,Monday - 10:00:00,Monday\",\n",
        "            \"23:00:00,Sunday - 01:00:00\",\n",
        "            \"01:00:00,Monday - 23:00:00,Sunday\",\n",
        "            \"10:00:00,Tuesday - 11:30:00,Thursday\",\n",
        "            \"11:30:00,Thursday - 10:00:00,Tuesday\",\n",
        "            \"12:00:00,Monday - 12:00:00,Monday\",\n",
        "            \"12:00:00,Monday - 12:00:00,Tuesday\",\n",
        "            \"00:00:00,Monday - 23:59:59\",\n",
        "            \"23:59:59,Sunday - 00:00:00,Monday\"\n",
        "        ]\n",
        "\n",
        "for list in list_d:\n",
        "    print(f\"{list} → {cal_dif_secs(list)} seconds\")\n",
        "    print(\"-\" * 20)"
      ],
      "metadata": {
        "colab": {
          "base_uri": "https://localhost:8080/"
        },
        "id": "eGa7ZBbWNuxf",
        "outputId": "055dc24c-d8c1-4c0c-cae6-e8bf8145ec25"
      },
      "execution_count": null,
      "outputs": [
        {
          "output_type": "stream",
          "name": "stdout",
          "text": [
            "10:00:00,Monday - 11:30:00 → 5400 seconds\n",
            "--------------------\n",
            "11:30:00,Monday - 10:00:00,Monday → 599400 seconds\n",
            "--------------------\n",
            "23:00:00,Sunday - 01:00:00 → 525600 seconds\n",
            "--------------------\n",
            "01:00:00,Monday - 23:00:00,Sunday → 597600 seconds\n",
            "--------------------\n",
            "10:00:00,Tuesday - 11:30:00,Thursday → 178200 seconds\n",
            "--------------------\n",
            "11:30:00,Thursday - 10:00:00,Tuesday → 426600 seconds\n",
            "--------------------\n",
            "12:00:00,Monday - 12:00:00,Monday → 0 seconds\n",
            "--------------------\n",
            "12:00:00,Monday - 12:00:00,Tuesday → 86400 seconds\n",
            "--------------------\n",
            "00:00:00,Monday - 23:59:59 → 86399 seconds\n",
            "--------------------\n",
            "23:59:59,Sunday - 00:00:00,Monday → 1 seconds\n",
            "--------------------\n"
          ]
        }
      ]
    },
    {
      "cell_type": "markdown",
      "source": [
        "# Quiz3.5\n",
        "\n",
        "รับ input 2 ตัว โดยตั้งค่า default time1 เป็น 00:00:00"
      ],
      "metadata": {
        "id": "GMMe5F1zgNV5"
      }
    },
    {
      "cell_type": "markdown",
      "source": [
        "## HW2\n",
        "\n",
        "วนลูป หา ช่วงเวลาเป็นวินาที ที่ห่างกันระหว่า time1 และ time2 ต่อไปนี้\n",
        "\n",
        "\n",
        "1. 18:09:10 - 18:25:10\n",
        "2. 13:38:39 - 23:54:39\n",
        "3. 16:49:58 - 18:05:58\n",
        "4. 21:49:10 - 22:24:10\n",
        "5. 08:52:21 - 09:25:21\n",
        "6. 06:56:26 - 07:49:26\n",
        "7. 12:08:05 - 12:43:05\n",
        "8. 01:48:38 - 07:18:38\n",
        "9. 08:51:21 - 10:17:21\n",
        "10. 17:05:17 - 18:09:17"
      ],
      "metadata": {
        "id": "Y60TMz5ijb_S"
      }
    },
    {
      "cell_type": "markdown",
      "source": [],
      "metadata": {
        "id": "09ZMfbLkl0sc"
      }
    },
    {
      "cell_type": "markdown",
      "source": [
        "\n",
        "\n",
        "* https://www.w3schools.com/python/default.asp\n",
        "* https://scikit-learn.org/stable/user_guide.html\n",
        "* https://pandas.pydata.org/docs/reference/frame.html\n",
        "\n",
        "\n"
      ],
      "metadata": {
        "id": "JOC_peU1kieC"
      }
    },
    {
      "cell_type": "code",
      "source": [],
      "metadata": {
        "id": "21VgH1UGkOoW"
      },
      "execution_count": null,
      "outputs": []
    },
    {
      "cell_type": "markdown",
      "metadata": {
        "id": "UB5fTAr3bPqg"
      },
      "source": [
        "# LOOP การวนซ้ำ"
      ]
    },
    {
      "cell_type": "markdown",
      "metadata": {
        "id": "gpIwjDjg0gfJ"
      },
      "source": [
        "for เป็นคำที่ใช้บอก python ว่าเรากำลังเขียน loop\n",
        "โดย for จะวนดึงสมาชิกจาก ```listA``` มาทำ process ```do_something```"
      ]
    },
    {
      "cell_type": "markdown",
      "metadata": {
        "id": "6XS2wO4_bPqg"
      },
      "source": [
        "```python\n",
        "    for each_member in listA :\n",
        "        do_something\n",
        "```"
      ]
    },
    {
      "cell_type": "markdown",
      "metadata": {
        "id": "d7kQ2AEcbPqg"
      },
      "source": [
        "#### คำสั่ง for เป็นคำสั่งวนซ้ำที่ใช้ควบคุมการทำงานซ้ำๆ ในจำนวนรอบที่แน่นอน"
      ]
    },
    {
      "cell_type": "code",
      "metadata": {
        "colab": {
          "base_uri": "https://localhost:8080/"
        },
        "id": "NcT-s7TEbPqg",
        "outputId": "407bee71-a455-4f85-8e6f-ed1db3fd969e"
      },
      "source": [
        "for i in [1,2,3] :\n",
        "    o = i**2\n",
        "    print (f'this member = {i} after process = {o}')"
      ],
      "execution_count": null,
      "outputs": [
        {
          "output_type": "stream",
          "name": "stdout",
          "text": [
            "this member = 1 after process = 1\n",
            "this member = 2 after process = 4\n",
            "this member = 3 after process = 9\n"
          ]
        }
      ]
    },
    {
      "cell_type": "markdown",
      "metadata": {
        "id": "YbnFaiU2bPqg"
      },
      "source": [
        "#### ตัวอย่างการใช้คำสั่ง for ในการวนซ้ำค่าของ i เมื่อ i คือ 'Thanapong' และคำสั่ง print(f'{i} -> /') เพื่อกำหนดให้ผลลัพธ์แสดงสัญลักษณ์ -> /  จากนั้นเพิ่มคำสั่ง print(' ') อีกครั้งเพื่อให้ผลลัพธ์มีการเว้นวรรค¶"
      ]
    },
    {
      "cell_type": "code",
      "metadata": {
        "id": "kstoI_CEbPqh",
        "outputId": "2380c235-132e-4707-ae77-9920ad2e10ff",
        "colab": {
          "base_uri": "https://localhost:8080/"
        }
      },
      "source": [
        "for i in 'Thanapong':\n",
        "    print(i,end = '-> /\\n' )"
      ],
      "execution_count": null,
      "outputs": [
        {
          "output_type": "stream",
          "name": "stdout",
          "text": [
            "T-> /\n",
            "h-> /\n",
            "a-> /\n",
            "n-> /\n",
            "a-> /\n",
            "p-> /\n",
            "o-> /\n",
            "n-> /\n",
            "g-> /\n"
          ]
        }
      ]
    },
    {
      "cell_type": "code",
      "metadata": {
        "id": "mQmh0Ip-V8qR",
        "outputId": "b05debe0-e425-4d61-f344-7fd9b8824de6",
        "colab": {
          "base_uri": "https://localhost:8080/"
        }
      },
      "source": [
        "for i in 'Thanapong':\n",
        "    print(f'{i} -> / ' ,end = '') #สั่งให้ print แบบ ไม่เว้นบรรทัด"
      ],
      "execution_count": null,
      "outputs": [
        {
          "output_type": "stream",
          "name": "stdout",
          "text": [
            "T -> / h -> / a -> / n -> / a -> / p -> / o -> / n -> / g -> / "
          ]
        }
      ]
    },
    {
      "cell_type": "markdown",
      "metadata": {
        "id": "3_I0IHOqXMIr"
      },
      "source": [
        "## สร้าง list ตัวเลขแบบอัตโนมัติ  range()"
      ]
    },
    {
      "cell_type": "code",
      "metadata": {
        "id": "ensAuLXBW-0P",
        "outputId": "5f0cd0c8-7e03-498b-979b-89b96c8e6112",
        "colab": {
          "base_uri": "https://localhost:8080/"
        }
      },
      "source": [
        "range5_output = range(5)\n",
        "print(list(range5_output))"
      ],
      "execution_count": null,
      "outputs": [
        {
          "output_type": "stream",
          "name": "stdout",
          "text": [
            "[0, 1, 2, 3, 4]\n"
          ]
        }
      ]
    },
    {
      "cell_type": "code",
      "metadata": {
        "id": "r8JXggPKXrEx",
        "outputId": "9c5f7ac8-2110-4e8c-b2c7-39d6d8766ffd",
        "colab": {
          "base_uri": "https://localhost:8080/"
        }
      },
      "source": [
        "for i in range(100):\n",
        "    print('งง',end=' ')"
      ],
      "execution_count": null,
      "outputs": [
        {
          "output_type": "stream",
          "name": "stdout",
          "text": [
            "งง งง งง งง งง งง งง งง งง งง งง งง งง งง งง งง งง งง งง งง งง งง งง งง งง งง งง งง งง งง งง งง งง งง งง งง งง งง งง งง งง งง งง งง งง งง งง งง งง งง งง งง งง งง งง งง งง งง งง งง งง งง งง งง งง งง งง งง งง งง งง งง งง งง งง งง งง งง งง งง งง งง งง งง งง งง งง งง งง งง งง งง งง งง งง งง งง งง งง งง "
          ]
        }
      ]
    },
    {
      "cell_type": "code",
      "metadata": {
        "id": "RLvhNqw8YpKa",
        "outputId": "cec2dd10-a7ac-4539-ea44-37df69b1e3e2",
        "colab": {
          "base_uri": "https://localhost:8080/"
        }
      },
      "source": [
        "list(range(1,11)) #เริ่มต้นเป็นวงทึบ จบเป็นวงกลมโปร่ง เหมือน list slicing"
      ],
      "execution_count": null,
      "outputs": [
        {
          "output_type": "execute_result",
          "data": {
            "text/plain": [
              "[1, 2, 3, 4, 5, 6, 7, 8, 9, 10]"
            ]
          },
          "metadata": {},
          "execution_count": 8
        }
      ]
    },
    {
      "cell_type": "code",
      "metadata": {
        "id": "MqXQ9NLGcW-r",
        "outputId": "29128ad2-eac0-4541-f31b-7133709ea016",
        "colab": {
          "base_uri": "https://localhost:8080/"
        }
      },
      "source": [
        "list(range(-3,20,4))"
      ],
      "execution_count": null,
      "outputs": [
        {
          "output_type": "execute_result",
          "data": {
            "text/plain": [
              "[-3, 1, 5, 9, 13, 17]"
            ]
          },
          "metadata": {},
          "execution_count": 9
        }
      ]
    },
    {
      "cell_type": "markdown",
      "source": [
        "### วนลูปโดยลำดับสมาชิกและลำดับ"
      ],
      "metadata": {
        "id": "T-WAx5_FAZuN"
      }
    },
    {
      "cell_type": "code",
      "source": [
        "index = 0\n",
        "for i in 'Konwalai':\n",
        "    print(f'สมาชิกคือ {i} เป็นลำดับที่ {index}')\n",
        "    index += 1"
      ],
      "metadata": {
        "colab": {
          "base_uri": "https://localhost:8080/"
        },
        "id": "WxvcPqy9Ae0i",
        "outputId": "45171f4a-8310-41e2-db8d-85f0d5922a6b"
      },
      "execution_count": null,
      "outputs": [
        {
          "output_type": "stream",
          "name": "stdout",
          "text": [
            "สมาชิกคือ K เป็นลำดับที่ 0\n",
            "สมาชิกคือ o เป็นลำดับที่ 1\n",
            "สมาชิกคือ n เป็นลำดับที่ 2\n",
            "สมาชิกคือ w เป็นลำดับที่ 3\n",
            "สมาชิกคือ a เป็นลำดับที่ 4\n",
            "สมาชิกคือ l เป็นลำดับที่ 5\n",
            "สมาชิกคือ a เป็นลำดับที่ 6\n",
            "สมาชิกคือ i เป็นลำดับที่ 7\n"
          ]
        }
      ]
    },
    {
      "cell_type": "code",
      "source": [
        "for i,index in enumerate('Konwalai'):\n",
        "    print(f'สมาชิกคือ {i} เป็นลำดับที่ {index}')"
      ],
      "metadata": {
        "colab": {
          "base_uri": "https://localhost:8080/"
        },
        "id": "4Vx23OpGA8E8",
        "outputId": "329df397-2766-4ba6-9253-8183957e249c"
      },
      "execution_count": null,
      "outputs": [
        {
          "output_type": "stream",
          "name": "stdout",
          "text": [
            "สมาชิกคือ 0 เป็นลำดับที่ K\n",
            "สมาชิกคือ 1 เป็นลำดับที่ o\n",
            "สมาชิกคือ 2 เป็นลำดับที่ n\n",
            "สมาชิกคือ 3 เป็นลำดับที่ w\n",
            "สมาชิกคือ 4 เป็นลำดับที่ a\n",
            "สมาชิกคือ 5 เป็นลำดับที่ l\n",
            "สมาชิกคือ 6 เป็นลำดับที่ a\n",
            "สมาชิกคือ 7 เป็นลำดับที่ i\n"
          ]
        }
      ]
    },
    {
      "cell_type": "markdown",
      "metadata": {
        "id": "vPcR4tJebPqi"
      },
      "source": [
        "### loop in loop\n",
        "#### สามารถใช้ for loop ซ้อนกันสองรอบได้¶"
      ]
    },
    {
      "cell_type": "code",
      "metadata": {
        "id": "TKRcpd5DbPqi",
        "outputId": "5ee2205a-f61f-42bb-8aa1-bf44c77409a9",
        "colab": {
          "base_uri": "https://localhost:8080/"
        }
      },
      "source": [
        "for name1 in  range(2,5): #(2, 3, 4)\n",
        "    print(f'now name1 = {name1}')\n",
        "    for name2 in  range(1,13):\n",
        "        print('  ', name1,' x ',name2,' = ',name1*name2)\n",
        "    print('the inner loop is end')"
      ],
      "execution_count": null,
      "outputs": [
        {
          "output_type": "stream",
          "name": "stdout",
          "text": [
            "now name1 = 2\n",
            "   2  x  1  =  2\n",
            "   2  x  2  =  4\n",
            "   2  x  3  =  6\n",
            "   2  x  4  =  8\n",
            "   2  x  5  =  10\n",
            "   2  x  6  =  12\n",
            "   2  x  7  =  14\n",
            "   2  x  8  =  16\n",
            "   2  x  9  =  18\n",
            "   2  x  10  =  20\n",
            "   2  x  11  =  22\n",
            "   2  x  12  =  24\n",
            "the inner loop is end\n",
            "now name1 = 3\n",
            "   3  x  1  =  3\n",
            "   3  x  2  =  6\n",
            "   3  x  3  =  9\n",
            "   3  x  4  =  12\n",
            "   3  x  5  =  15\n",
            "   3  x  6  =  18\n",
            "   3  x  7  =  21\n",
            "   3  x  8  =  24\n",
            "   3  x  9  =  27\n",
            "   3  x  10  =  30\n",
            "   3  x  11  =  33\n",
            "   3  x  12  =  36\n",
            "the inner loop is end\n",
            "now name1 = 4\n",
            "   4  x  1  =  4\n",
            "   4  x  2  =  8\n",
            "   4  x  3  =  12\n",
            "   4  x  4  =  16\n",
            "   4  x  5  =  20\n",
            "   4  x  6  =  24\n",
            "   4  x  7  =  28\n",
            "   4  x  8  =  32\n",
            "   4  x  9  =  36\n",
            "   4  x  10  =  40\n",
            "   4  x  11  =  44\n",
            "   4  x  12  =  48\n",
            "the inner loop is end\n"
          ]
        }
      ]
    },
    {
      "cell_type": "markdown",
      "source": [
        "# Quiz 7 วนลูป แสดงค่า ตัวเลขออกมาเป็น 3 เหลี่ยมตามตัวอย่างดังนี้\n",
        "\n",
        " ex:\n",
        " 1\n",
        "\n",
        " 2 4\n",
        "\n",
        " 3 6 9\n",
        "\n",
        " 4 8 12 16\n",
        "\n",
        " 5 10 15 20 25"
      ],
      "metadata": {
        "id": "7gbfGHQUClAk"
      }
    },
    {
      "cell_type": "code",
      "source": [
        "# prompt: วนลูป แสดงค่า ตัวเลขออกมาเป็น 3 เหลี่ยมตามตัวอย่างดังนี้\n",
        "\n",
        "for i in range(1, 6):\n",
        "  for j in range(1, i + 1):\n",
        "    print(i * j, end=' ')\n",
        "  print()"
      ],
      "metadata": {
        "colab": {
          "base_uri": "https://localhost:8080/"
        },
        "id": "WRCKoDqrCjnO",
        "outputId": "bde7acf4-f998-4496-fe2b-671fe7edd78d"
      },
      "execution_count": null,
      "outputs": [
        {
          "output_type": "stream",
          "name": "stdout",
          "text": [
            "1 \n",
            "2 4 \n",
            "3 6 9 \n",
            "4 8 12 16 \n",
            "5 10 15 20 25 \n"
          ]
        }
      ]
    },
    {
      "cell_type": "markdown",
      "metadata": {
        "id": "7-FAZit8bPqi"
      },
      "source": [
        "### loop in function\n",
        "#### การวนลูปในฟังก์ชั่น¶"
      ]
    },
    {
      "cell_type": "code",
      "metadata": {
        "id": "S0r5yhbDbPqi"
      },
      "source": [
        "def print_feelings(I,friendS,feeling = 'คิดถึง'):\n",
        "    for friend in friendS:\n",
        "        print(f'{I} {feeling} {friend}')"
      ],
      "execution_count": null,
      "outputs": []
    },
    {
      "cell_type": "code",
      "metadata": {
        "id": "_oVKj4SRfGS6"
      },
      "source": [
        "list_friends = ['เงิน','เงิน','เงิน','เงิน','เงิน','เงิน']"
      ],
      "execution_count": null,
      "outputs": []
    },
    {
      "cell_type": "code",
      "metadata": {
        "id": "RepVZqu6bPqi",
        "outputId": "0cb2dd36-32f7-48ff-8bf4-1ab0522510a1",
        "colab": {
          "base_uri": "https://localhost:8080/"
        }
      },
      "source": [
        "print_feelings('เงิน',list_friends)"
      ],
      "execution_count": null,
      "outputs": [
        {
          "output_type": "stream",
          "name": "stdout",
          "text": [
            "เงิน คิดถึง เงิน\n",
            "เงิน คิดถึง เงิน\n",
            "เงิน คิดถึง เงิน\n",
            "เงิน คิดถึง เงิน\n",
            "เงิน คิดถึง เงิน\n",
            "เงิน คิดถึง เงิน\n"
          ]
        }
      ]
    },
    {
      "cell_type": "code",
      "source": [
        "print_feelings('ฉัน','เงิน')"
      ],
      "metadata": {
        "colab": {
          "base_uri": "https://localhost:8080/"
        },
        "id": "x1VsDO8xHk-R",
        "outputId": "3c47cdc1-d495-46c4-8d32-a4ce8c57b4bf"
      },
      "execution_count": null,
      "outputs": [
        {
          "output_type": "stream",
          "name": "stdout",
          "text": [
            "ฉัน คิดถึง เ\n",
            "ฉัน คิดถึง ง\n",
            "ฉัน คิดถึง ิ\n",
            "ฉัน คิดถึง น\n"
          ]
        }
      ]
    },
    {
      "cell_type": "code",
      "metadata": {
        "id": "P20pDnVaf2vK",
        "outputId": "92b6239c-d2a1-481e-dc69-1aa69a4aabfb",
        "colab": {
          "base_uri": "https://localhost:8080/"
        }
      },
      "source": [
        "print_feelings('ฉัน',list_friends,feeling='รัก')"
      ],
      "execution_count": null,
      "outputs": [
        {
          "output_type": "stream",
          "name": "stdout",
          "text": [
            "ฉัน รัก เงิน\n",
            "ฉัน รัก เงิน\n",
            "ฉัน รัก เงิน\n",
            "ฉัน รัก เงิน\n",
            "ฉัน รัก เงิน\n",
            "ฉัน รัก เงิน\n"
          ]
        }
      ]
    },
    {
      "cell_type": "code",
      "metadata": {
        "id": "SzHamL8JhKG4",
        "outputId": "19fac0b6-f144-486a-8200-8e246090c9d1",
        "colab": {
          "base_uri": "https://localhost:8080/"
        }
      },
      "source": [
        "print_feelings('เจมส์',list_friends,'รัก')"
      ],
      "execution_count": null,
      "outputs": [
        {
          "output_type": "stream",
          "name": "stdout",
          "text": [
            "เจมส์ รัก พี่บูม\n",
            "เจมส์ รัก ดายน์\n",
            "เจมส์ รัก แตงโม\n",
            "เจมส์ รัก ฝน\n",
            "เจมส์ รัก พี่เจ็ท\n",
            "เจมส์ รัก น้องแคมป์\n"
          ]
        }
      ]
    },
    {
      "cell_type": "markdown",
      "source": [
        "จบ 24 มิย 67"
      ],
      "metadata": {
        "id": "GJAB4hnvnAX8"
      }
    },
    {
      "cell_type": "markdown",
      "source": [
        "## Dictionary (Data Structure)\n",
        "\n",
        "โครงสร้างข้อมูลที่จัดเก็บข้อมูลโดยการอ้างอิงโดย text\n",
        "\n",
        "วงเล็บ ```{``` ```}``` Curly Brackets"
      ],
      "metadata": {
        "id": "VreW55vmVRcb"
      }
    },
    {
      "cell_type": "code",
      "source": [
        "Ex_dict_A = {'memberA':[1,2,3],'memberB':8,'memberC':'abc'}"
      ],
      "metadata": {
        "id": "i-oH98ilV1RV"
      },
      "execution_count": null,
      "outputs": []
    },
    {
      "cell_type": "code",
      "source": [
        "Ex_dict_A"
      ],
      "metadata": {
        "colab": {
          "base_uri": "https://localhost:8080/"
        },
        "id": "kIwdnWuqWr58",
        "outputId": "694d94ad-5ac6-47a8-e6d6-01f62d578d9b"
      },
      "execution_count": null,
      "outputs": [
        {
          "output_type": "execute_result",
          "data": {
            "text/plain": [
              "{'memberA': [1, 2, 3], 'memberB': 8, 'memberC': 'abc'}"
            ]
          },
          "metadata": {},
          "execution_count": 2
        }
      ]
    },
    {
      "cell_type": "code",
      "source": [
        "Ex_dict_A['memberA']"
      ],
      "metadata": {
        "colab": {
          "base_uri": "https://localhost:8080/"
        },
        "id": "J4yy6oaXW4he",
        "outputId": "153013bf-f9bd-4cd9-a182-bf13744d02c7"
      },
      "execution_count": null,
      "outputs": [
        {
          "output_type": "execute_result",
          "data": {
            "text/plain": [
              "[1, 2, 3]"
            ]
          },
          "metadata": {},
          "execution_count": 5
        }
      ]
    },
    {
      "cell_type": "code",
      "source": [
        "Ex_dict_A['memberA'][1]"
      ],
      "metadata": {
        "colab": {
          "base_uri": "https://localhost:8080/"
        },
        "id": "cZjtUbdnXZK-",
        "outputId": "0eaa0d49-1a2a-41d6-bb62-7c3252df977f"
      },
      "execution_count": null,
      "outputs": [
        {
          "output_type": "execute_result",
          "data": {
            "text/plain": [
              "2"
            ]
          },
          "metadata": {},
          "execution_count": 6
        }
      ]
    },
    {
      "cell_type": "markdown",
      "metadata": {
        "id": "vwK7RmRJbPqj"
      },
      "source": [
        "### looping in dict\n",
        "#### ทำการวนลูปในค่า dict โดยที่เรากำหนดตัว key และvalueขึ้นมา ได้ดังนี้\n"
      ]
    },
    {
      "cell_type": "code",
      "metadata": {
        "id": "HI0F-4HobPqj",
        "outputId": "f3a4904e-de27-44ee-dca6-e32fb4b75478",
        "colab": {
          "base_uri": "https://localhost:8080/"
        }
      },
      "source": [
        "name_grade = {'พันทิพา' : 'B','ศุภนิตา' : 'C','ปนัดดา' : 'A','ทรงกลด' : 'F'}\n",
        "name_grade"
      ],
      "execution_count": null,
      "outputs": [
        {
          "output_type": "execute_result",
          "data": {
            "text/plain": [
              "{'พันทิพา': 'B', 'ศุภนิตา': 'C', 'ปนัดดา': 'A', 'ทรงกลด': 'F'}"
            ]
          },
          "metadata": {},
          "execution_count": 26
        }
      ]
    },
    {
      "cell_type": "code",
      "metadata": {
        "id": "jWf8aBmpbPqj",
        "outputId": "c8f7cb70-8369-45f9-f7df-36351de8d0b0",
        "colab": {
          "base_uri": "https://localhost:8080/",
          "height": 35
        }
      },
      "source": [
        "name_grade['ปนัดดา']"
      ],
      "execution_count": null,
      "outputs": [
        {
          "output_type": "execute_result",
          "data": {
            "text/plain": [
              "'A'"
            ],
            "application/vnd.google.colaboratory.intrinsic+json": {
              "type": "string"
            }
          },
          "metadata": {},
          "execution_count": 27
        }
      ]
    },
    {
      "cell_type": "code",
      "source": [
        "name_grade.keys()"
      ],
      "metadata": {
        "colab": {
          "base_uri": "https://localhost:8080/"
        },
        "id": "0tXZc6kgYPgm",
        "outputId": "d91bb69f-e92c-4c0d-a596-0b1cc97aa688"
      },
      "execution_count": null,
      "outputs": [
        {
          "output_type": "execute_result",
          "data": {
            "text/plain": [
              "dict_keys(['พันทิพา', 'ศุภนิตา', 'ปนัดดา', 'ทรงกลด'])"
            ]
          },
          "metadata": {},
          "execution_count": 28
        }
      ]
    },
    {
      "cell_type": "code",
      "source": [
        "name_grade.values()"
      ],
      "metadata": {
        "colab": {
          "base_uri": "https://localhost:8080/"
        },
        "id": "zEqstk33YRxp",
        "outputId": "e01dc8af-865a-4ba3-809c-370371d8409e"
      },
      "execution_count": null,
      "outputs": [
        {
          "output_type": "execute_result",
          "data": {
            "text/plain": [
              "dict_values(['B', 'C', 'A', 'F'])"
            ]
          },
          "metadata": {},
          "execution_count": 10
        }
      ]
    },
    {
      "cell_type": "code",
      "metadata": {
        "scrolled": true,
        "id": "eDqhoebhbPqj",
        "outputId": "e3bed2bc-662c-4001-c6af-548dd9b7f0fc",
        "colab": {
          "base_uri": "https://localhost:8080/"
        }
      },
      "source": [
        "for i in name_grade.keys():\n",
        "    print(i)"
      ],
      "execution_count": null,
      "outputs": [
        {
          "output_type": "stream",
          "name": "stdout",
          "text": [
            "พันทิพา\n",
            "ศุภนิตา\n",
            "ปนัดดา\n",
            "ทรงกลด\n"
          ]
        }
      ]
    },
    {
      "cell_type": "code",
      "metadata": {
        "id": "Imvq4faObPqj",
        "outputId": "4debf4e7-78ed-431a-8b4a-61f4500d39a8",
        "colab": {
          "base_uri": "https://localhost:8080/"
        }
      },
      "source": [
        "for i in name_grade.keys():\n",
        "    print(f'{i} ได้เกรด {name_grade[i]}')"
      ],
      "execution_count": null,
      "outputs": [
        {
          "output_type": "stream",
          "name": "stdout",
          "text": [
            "พันทิพา ได้เกรด B\n",
            "ศุภนิตา ได้เกรด C\n",
            "ปนัดดา ได้เกรด A\n",
            "ทรงกลด ได้เกรด F\n"
          ]
        }
      ]
    },
    {
      "cell_type": "markdown",
      "source": [
        "# nbviewer"
      ],
      "metadata": {
        "id": "ra9nP5d2KIxa"
      }
    },
    {
      "cell_type": "markdown",
      "source": [
        "https://nbviewer.org/"
      ],
      "metadata": {
        "id": "ip9T41okKGSq"
      }
    },
    {
      "cell_type": "markdown",
      "source": [
        "## HW2 Example"
      ],
      "metadata": {
        "id": "CrnK1_WPaYv7"
      }
    },
    {
      "cell_type": "code",
      "source": [
        "time_list =  [\n",
        "    [\"18:09:10\", \"18:25:10\"],\n",
        "    [\"13:38:39\", \"23:54:39\"],\n",
        "    [\"16:49:58\", \"18:05:58\"],\n",
        "    [\"21:49:10\", \"22:24:10\"],\n",
        "    [\"08:52:21\", \"09:25:21\"],\n",
        "    [\"06:56:26\", \"07:49:26\"],\n",
        "    [\"12:08:05\", \"12:43:05\"],\n",
        "    [\"01:48:38\", \"07:18:38\"],\n",
        "    [\"08:51:21\", \"10:17:21\"],\n",
        "    [\"17:05:17\", \"18:09:17\"]]\n",
        "\n",
        "def time_to_second(time1,time2):\n",
        "    time1_list = time1.split(':')\n",
        "    time2_list = time2.split(':')\n",
        "    time1_sec = int(time1_list[0])*3600 + int(time1_list[1])*60 + int(time1_list[2])\n",
        "    time2_sec = int(time2_list[0])*3600 + int(time2_list[1])*60 + int(time2_list[2])\n",
        "    return(time2_sec - time1_sec)\n",
        "\n",
        "for time1,time2 in time_list:\n",
        "  diff_seconds = time_to_second(time1,time2)\n",
        "  print(f\"Time difference between {time1} - {time2} is {diff_seconds} seconds\")"
      ],
      "metadata": {
        "colab": {
          "base_uri": "https://localhost:8080/"
        },
        "id": "BqYhLFc5aYa2",
        "outputId": "825e1a7c-f359-44cc-9e02-160670dc983c"
      },
      "execution_count": null,
      "outputs": [
        {
          "output_type": "stream",
          "name": "stdout",
          "text": [
            "Time difference between 18:09:10 - 18:25:10 is 960 seconds\n",
            "Time difference between 13:38:39 - 23:54:39 is 36960 seconds\n",
            "Time difference between 16:49:58 - 18:05:58 is 4560 seconds\n",
            "Time difference between 21:49:10 - 22:24:10 is 2100 seconds\n",
            "Time difference between 08:52:21 - 09:25:21 is 1980 seconds\n",
            "Time difference between 06:56:26 - 07:49:26 is 3180 seconds\n",
            "Time difference between 12:08:05 - 12:43:05 is 2100 seconds\n",
            "Time difference between 01:48:38 - 07:18:38 is 19800 seconds\n",
            "Time difference between 08:51:21 - 10:17:21 is 5160 seconds\n",
            "Time difference between 17:05:17 - 18:09:17 is 3840 seconds\n"
          ]
        }
      ]
    },
    {
      "cell_type": "code",
      "source": [
        "time1 = \"18:09:10\"\n",
        "time2 = \"00:25:10\"\n",
        "diff_seconds = time_to_second(time1,time2)\n",
        "print(f\"Time difference between {time1} - {time2} is {diff_seconds} seconds\")"
      ],
      "metadata": {
        "colab": {
          "base_uri": "https://localhost:8080/"
        },
        "id": "lbz-CNPlbGYq",
        "outputId": "31befb8b-40ae-47b0-876d-a94e7ecfe760"
      },
      "execution_count": null,
      "outputs": [
        {
          "output_type": "stream",
          "name": "stdout",
          "text": [
            "Time difference between 18:09:10 - 00:25:10 is -63840 seconds\n"
          ]
        }
      ]
    },
    {
      "cell_type": "markdown",
      "metadata": {
        "id": "pLDGW8IobPqk"
      },
      "source": [
        "# Conditional statemet คือ ประโยคเงื่อนไข"
      ]
    },
    {
      "cell_type": "markdown",
      "source": [
        "ชนิดตัวแปรที่เกี่ยวข้อ Boolean (True,False)"
      ],
      "metadata": {
        "id": "TvK12jMwcVp8"
      }
    },
    {
      "cell_type": "code",
      "source": [
        "condition_1 = True\n",
        "condition_2 = False"
      ],
      "metadata": {
        "id": "JWxlKa-icUk6"
      },
      "execution_count": null,
      "outputs": []
    },
    {
      "cell_type": "markdown",
      "metadata": {
        "id": "8_-zCLkrbPqk"
      },
      "source": [
        "### การวนลูปโดยมีเงื่อนไขต่างๆมาเกี่ยวข้อง โดยมี pattern ดังนี้\n"
      ]
    },
    {
      "cell_type": "markdown",
      "metadata": {
        "id": "ZQuWb-bybPqk"
      },
      "source": [
        "```Python\n",
        "if condition1 :\n",
        "    do something\n",
        "elif condition2 :  #elif คือ else if\n",
        "    do another thing\n",
        "else:\n",
        "    do ...\n",
        "```\n",
        "    "
      ]
    },
    {
      "cell_type": "markdown",
      "metadata": {
        "id": "kUPdCRG7bPqk"
      },
      "source": [
        "## ==, !=,>=,<=,<,> Operator ของตัวเลข"
      ]
    },
    {
      "cell_type": "code",
      "source": [
        "def time_to_second(time1):\n",
        "    time1_list = time1.split(':')\n",
        "    time1_sec = int(time1_list[0])*3600 + int(time1_list[1])*60 + int(time1_list[2])\n",
        "    return time1_sec"
      ],
      "metadata": {
        "id": "9NIOIupSd_Zn"
      },
      "execution_count": 1,
      "outputs": []
    },
    {
      "cell_type": "code",
      "source": [
        "time_list =  [\n",
        "    [\"18:09:10\", \"18:25:10\"],\n",
        "    [\"13:38:39\", \"23:54:39\"],[\"16:49:58\", \"18:05:58\"],\n",
        "    [\"21:49:10\", \"22:24:10\"],[\"08:52:21\", \"09:25:21\"],\n",
        "    [\"06:56:26\", \"07:49:26\"],[\"12:08:05\", \"12:43:05\"],\n",
        "    [\"01:48:38\", \"07:18:38\"],[\"08:51:21\", \"10:17:21\"],\n",
        "    [\"17:05:17\", \"18:09:17\"],[\"18:51:21\", \"00:17:21\"],\n",
        "    [\"17:05:17\", \"11:09:17\"],]"
      ],
      "metadata": {
        "id": "CYcYQJ45d8Wx"
      },
      "execution_count": 2,
      "outputs": []
    },
    {
      "cell_type": "code",
      "source": [
        "for time1,time2 in time_list:\n",
        "\n",
        "    if time_to_second(time1) < time_to_second(time2): #ถ้า time1 น้อยกว่า time2\n",
        "        diff_seconds = time_to_second(time2) - time_to_second(time1)\n",
        "    else: #ถ้า time1 ไม่น้อยกว่า time2\n",
        "        diff_seconds = (time_to_second(time2)+(24*60*60)) - time_to_second(time1)\n",
        "\n",
        "    print(f\"Time difference between {time1} - {time2} is {diff_seconds} seconds\")"
      ],
      "metadata": {
        "colab": {
          "base_uri": "https://localhost:8080/"
        },
        "id": "sv-1il2_dmvv",
        "outputId": "ca83edde-8bad-4181-e8fd-a5180df43784"
      },
      "execution_count": 3,
      "outputs": [
        {
          "output_type": "stream",
          "name": "stdout",
          "text": [
            "Time difference between 18:09:10 - 18:25:10 is 960 seconds\n",
            "Time difference between 13:38:39 - 23:54:39 is 36960 seconds\n",
            "Time difference between 16:49:58 - 18:05:58 is 4560 seconds\n",
            "Time difference between 21:49:10 - 22:24:10 is 2100 seconds\n",
            "Time difference between 08:52:21 - 09:25:21 is 1980 seconds\n",
            "Time difference between 06:56:26 - 07:49:26 is 3180 seconds\n",
            "Time difference between 12:08:05 - 12:43:05 is 2100 seconds\n",
            "Time difference between 01:48:38 - 07:18:38 is 19800 seconds\n",
            "Time difference between 08:51:21 - 10:17:21 is 5160 seconds\n",
            "Time difference between 17:05:17 - 18:09:17 is 3840 seconds\n",
            "Time difference between 18:51:21 - 00:17:21 is 19560 seconds\n",
            "Time difference between 17:05:17 - 11:09:17 is 65040 seconds\n"
          ]
        }
      ]
    },
    {
      "cell_type": "markdown",
      "source": [
        "# HW3 เพิ่ม ฟังก์ชั่นแปลงวินาทีกลับมาเป็น ชั่วโมง นาที วินาที โดยไม่ใช่ฟังก์ชั่นช่วยเหลืออื่นๆของ python (~~import~~) ถ้าส่วนของ ชั่วโมง นาที วินาที เป็นศูนย์ ไม่ต้องแสดง"
      ],
      "metadata": {
        "id": "JMvgwO7tgxSZ"
      }
    },
    {
      "cell_type": "markdown",
      "metadata": {
        "id": "sSySEFHNbPql"
      },
      "source": [
        "# HW 4\n",
        "#### เขียน function ตัดเกรด โดยที่ input เป็นคะแนน(0-100) , output เป็นเกรด (F-A)\n",
        "#### วนลูปตัดเกรด input = [1,50,65,90,101,-5,49]"
      ]
    },
    {
      "cell_type": "markdown",
      "metadata": {
        "id": "c3TDhZHzbPqm"
      },
      "source": [
        "##### กำหนด\n",
        "      ถ้าคะแนนอยู่ระหว่างมากกว่าหรือเท่ากับ  0  แต่น้อยกว่า 50 จะได้เกรด F\n",
        "      ถ้าคะแนนอยู่ระหว่างมากกว่าหรือเท่ากับ 50 แต่น้อยกว่า 55 จะได้เกรด D\n",
        "      ถ้าคะแนนอยู่ระหว่างมากกว่าหรือเท่ากับ 55 แต่น้อยกว่า 60 จะได้เกรด D+\n",
        "      ถ้าคะแนนอยู่ระหว่างมากกว่าหรือเท่ากับ 60 แต่น้อยกว่า 65 จะได้เกรด C\n",
        "      ถ้าคะแนนอยู่ระหว่างมากกว่าหรือเท่ากับ 65 แต่น้อยกว่า 70 จะได้เกรด C+\n",
        "      ถ้าคะแนนอยู่ระหว่างมากกว่าหรือเท่ากับ 70 แต่น้อยกว่า 75 จะได้เกรด B\n",
        "      ถ้าคะแนนอยู่ระหว่างมากกว่าหรือเท่ากับ 75 แต่น้อยกว่า 80 จะได้เกรด B+\n",
        "      ถ้าคะแนนอยู่ระหว่างมากกว่าหรือเท่ากับ 80  จะได้เกรด A\n",
        "      แต่ว่าค่าคะแนนจะต้องไม่ต่ำกว่า 0 และมากกว่า 100 ไม่งั้นจะเกิด error"
      ]
    },
    {
      "cell_type": "markdown",
      "source": [
        "## ```&```, ```|```, ```in```, ```is```   :  Operator อื่นๆ"
      ],
      "metadata": {
        "id": "HSMQXdmmipMp"
      }
    },
    {
      "cell_type": "code",
      "source": [
        "if (1>0) & (0>-1):\n",
        "    print(True & True)"
      ],
      "metadata": {
        "id": "ES5d1z0ti306",
        "outputId": "6f339186-05a5-4f43-e74d-94813037cc2c",
        "colab": {
          "base_uri": "https://localhost:8080/"
        }
      },
      "execution_count": 4,
      "outputs": [
        {
          "output_type": "stream",
          "name": "stdout",
          "text": [
            "True\n"
          ]
        }
      ]
    },
    {
      "cell_type": "code",
      "source": [
        "a = 2<3\n",
        "print(a)"
      ],
      "metadata": {
        "colab": {
          "base_uri": "https://localhost:8080/"
        },
        "id": "xGfdFl3HSWj_",
        "outputId": "08dd823a-4336-46f2-c9ba-0d618136b096"
      },
      "execution_count": 6,
      "outputs": [
        {
          "output_type": "stream",
          "name": "stdout",
          "text": [
            "True\n"
          ]
        }
      ]
    },
    {
      "cell_type": "code",
      "source": [
        "b = 7 in range(7)\n",
        "print(b)"
      ],
      "metadata": {
        "colab": {
          "base_uri": "https://localhost:8080/"
        },
        "id": "Eyg0pDEzSN8i",
        "outputId": "41c8ee9a-fc64-4de4-ece1-b7c1c7e0a95a"
      },
      "execution_count": 5,
      "outputs": [
        {
          "output_type": "stream",
          "name": "stdout",
          "text": [
            "False\n"
          ]
        }
      ]
    },
    {
      "cell_type": "code",
      "source": [
        "a & b"
      ],
      "metadata": {
        "colab": {
          "base_uri": "https://localhost:8080/"
        },
        "id": "gXy_3gKmSdCe",
        "outputId": "1232f38c-2279-4649-bc8f-b76bbd34d74f"
      },
      "execution_count": 7,
      "outputs": [
        {
          "output_type": "execute_result",
          "data": {
            "text/plain": [
              "False"
            ]
          },
          "metadata": {},
          "execution_count": 7
        }
      ]
    },
    {
      "cell_type": "code",
      "source": [
        "a | b"
      ],
      "metadata": {
        "colab": {
          "base_uri": "https://localhost:8080/"
        },
        "id": "uvCWOT7kSgxg",
        "outputId": "680daea2-2638-448c-f666-cea9e5605c79"
      },
      "execution_count": 8,
      "outputs": [
        {
          "output_type": "execute_result",
          "data": {
            "text/plain": [
              "True"
            ]
          },
          "metadata": {},
          "execution_count": 8
        }
      ]
    },
    {
      "cell_type": "code",
      "source": [
        "if 2<3 & 7 in range(10):\n",
        "    print('Yes')"
      ],
      "metadata": {
        "colab": {
          "base_uri": "https://localhost:8080/"
        },
        "id": "Ik_BqLC_SnvV",
        "outputId": "a2801c8c-885e-4e08-88ad-71cff3e0e9fe"
      },
      "execution_count": 9,
      "outputs": [
        {
          "output_type": "stream",
          "name": "stdout",
          "text": [
            "Yes\n"
          ]
        }
      ]
    },
    {
      "cell_type": "code",
      "source": [
        "if 'K' in 'Konwalai':\n",
        "    print('K in Konwalai')"
      ],
      "metadata": {
        "id": "3COnyOTKipAc",
        "outputId": "76bb33c1-7cf6-440d-c3d0-36a6933cbe99",
        "colab": {
          "base_uri": "https://localhost:8080/"
        }
      },
      "execution_count": 11,
      "outputs": [
        {
          "output_type": "stream",
          "name": "stdout",
          "text": [
            "K in Konwalai\n"
          ]
        }
      ]
    },
    {
      "cell_type": "code",
      "source": [],
      "metadata": {
        "id": "OQ96gySETTYa"
      },
      "execution_count": null,
      "outputs": []
    },
    {
      "cell_type": "code",
      "source": [
        "def return_nothing(x):\n",
        "    x = x+1"
      ],
      "metadata": {
        "id": "01N3TOG9k3ti"
      },
      "execution_count": null,
      "outputs": []
    },
    {
      "cell_type": "code",
      "source": [
        "a = return_nothing(5)"
      ],
      "metadata": {
        "id": "drWbuBwNldOL"
      },
      "execution_count": null,
      "outputs": []
    },
    {
      "cell_type": "code",
      "source": [
        "if a is None:\n",
        "    print('x is null')"
      ],
      "metadata": {
        "id": "pOj0pkEEkbuW",
        "outputId": "29d5bf18-d242-40f3-a542-26c39aa2fcca",
        "colab": {
          "base_uri": "https://localhost:8080/"
        }
      },
      "execution_count": null,
      "outputs": [
        {
          "output_type": "stream",
          "name": "stdout",
          "text": [
            "x is null\n"
          ]
        }
      ]
    },
    {
      "cell_type": "code",
      "source": [],
      "metadata": {
        "id": "y1ET-H8ylyxP"
      },
      "execution_count": null,
      "outputs": []
    },
    {
      "cell_type": "markdown",
      "source": [
        "## break คือการออกจาก loop"
      ],
      "metadata": {
        "id": "IFi7LHIgTmdT"
      }
    },
    {
      "cell_type": "markdown",
      "source": [
        "python break\n",
        "https://www.programiz.com/python-programming/break-continue"
      ],
      "metadata": {
        "id": "dTITSiV1ThNL"
      }
    },
    {
      "cell_type": "code",
      "source": [
        "numbers = [0, 2, 8, 24, 5, 60, 70, 81, 9, 10]\n",
        "#สร้าง function ตรวจสองว่าใน list มีเลขคี่หรือเปล่า\n",
        "def check_odd_in_list(input_list):\n",
        "    for i in input_list:\n",
        "        if i % 2 != 0:\n",
        "            print(f'มีเลขคี่ คือ {i}')\n",
        "    print('ไม่มีเลขคี่')\n",
        "\n",
        "check_odd_in_list(numbers)"
      ],
      "metadata": {
        "colab": {
          "base_uri": "https://localhost:8080/"
        },
        "id": "n5tBt_AkWdVU",
        "outputId": "d9b3ae75-1045-4378-91f9-0b94a3535767"
      },
      "execution_count": 30,
      "outputs": [
        {
          "output_type": "stream",
          "name": "stdout",
          "text": [
            "มีเลขคี่ คือ 5\n",
            "มีเลขคี่ คือ 81\n",
            "มีเลขคี่ คือ 9\n",
            "ไม่มีเลขคี่\n"
          ]
        }
      ]
    },
    {
      "cell_type": "code",
      "source": [
        "numbers = [0, 2, 8, 24, 5, 60, 70, 81, 9, 10]\n",
        "#สร้าง function ตรวจสองว่าใน list มีเลขคี่หรือเปล่า\n",
        "def check_odd_in_list(input_list):\n",
        "    for i in input_list:\n",
        "        if i % 2 != 0:\n",
        "            print(f'มีเลขคี่ คือ {i}')\n",
        "            break\n",
        "    print('ไม่มีเลขคี่')\n",
        "\n",
        "check_odd_in_list(numbers)"
      ],
      "metadata": {
        "colab": {
          "base_uri": "https://localhost:8080/"
        },
        "id": "1BJKyOJJTtbA",
        "outputId": "516afb25-f6d8-4de0-ec14-9085b603ea45"
      },
      "execution_count": 29,
      "outputs": [
        {
          "output_type": "stream",
          "name": "stdout",
          "text": [
            "มีเลขคี่ คือ 5\n",
            "ไม่มีเลขคี่\n"
          ]
        }
      ]
    },
    {
      "cell_type": "code",
      "source": [
        "numbers = [0, 2, 8, 24, 5, 60, 70, 81, 9, 10]\n",
        "#สร้าง function ตรวจสองว่าใน list มีเลขคี่หรือเปล่า\n",
        "def check_odd_in_list(input_list):\n",
        "    for i in input_list:\n",
        "        if i % 2 != 0:\n",
        "            print(f'มีเลขคี่ คือ {i}')\n",
        "            return\n",
        "    print('ไม่มีเลขคี่')\n",
        "    return input_list\n",
        "\n",
        "check_odd_in_list(numbers)\n",
        "check_odd_in_list({0, 2, 8, 24})"
      ],
      "metadata": {
        "colab": {
          "base_uri": "https://localhost:8080/"
        },
        "id": "rvJWLvrLWzLV",
        "outputId": "e4253301-bcc6-4bec-d6e4-cd75bedd9d1b"
      },
      "execution_count": 28,
      "outputs": [
        {
          "output_type": "stream",
          "name": "stdout",
          "text": [
            "มีเลขคี่ คือ 5\n",
            "ไม่มีเลขคี่\n"
          ]
        },
        {
          "output_type": "execute_result",
          "data": {
            "text/plain": [
              "{0, 2, 8, 24}"
            ]
          },
          "metadata": {},
          "execution_count": 28
        }
      ]
    },
    {
      "cell_type": "code",
      "source": [
        "for num in numbers:\n",
        "    if num == 5:\n",
        "        print(\"Found 5! Breaking the loop\")\n",
        "        break\n",
        "    print(num)"
      ],
      "metadata": {
        "id": "QUszTH4-VbWe"
      },
      "execution_count": null,
      "outputs": []
    },
    {
      "cell_type": "markdown",
      "metadata": {
        "id": "Bg3vVE3GbPqn"
      },
      "source": [
        "# Finish"
      ]
    }
  ]
}