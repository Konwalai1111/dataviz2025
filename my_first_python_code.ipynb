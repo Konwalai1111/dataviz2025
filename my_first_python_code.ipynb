{
  "nbformat": 4,
  "nbformat_minor": 0,
  "metadata": {
    "colab": {
      "provenance": [],
      "toc_visible": true,
      "authorship_tag": "ABX9TyOpLCtY4EJR1xWa4UxQ/ow2",
      "include_colab_link": true
    },
    "kernelspec": {
      "name": "python3",
      "display_name": "Python 3"
    },
    "language_info": {
      "name": "python"
    }
  },
  "cells": [
    {
      "cell_type": "markdown",
      "metadata": {
        "id": "view-in-github",
        "colab_type": "text"
      },
      "source": [
        "<a href=\"https://colab.research.google.com/github/Konwalai1111/dataviz2025/blob/main/my_first_python_code.ipynb\" target=\"_parent\"><img src=\"https://colab.research.google.com/assets/colab-badge.svg\" alt=\"Open In Colab\"/></a>"
      ]
    },
    {
      "cell_type": "markdown",
      "source": [
        "Here we can write using **Markdown**\n",
        "# intro"
      ],
      "metadata": {
        "id": "CBy-BwEdHRos"
      }
    },
    {
      "cell_type": "markdown",
      "source": [
        "## name"
      ],
      "metadata": {
        "id": "i6Erp9vNIHNb"
      }
    },
    {
      "cell_type": "code",
      "source": [
        "print(\"Konwalai\")"
      ],
      "metadata": {
        "colab": {
          "base_uri": "https://localhost:8080/"
        },
        "id": "eAo5kpp9Il3u",
        "outputId": "78bf7784-f3b3-44d2-bd27-eb43a606fd0d"
      },
      "execution_count": 1,
      "outputs": [
        {
          "output_type": "stream",
          "name": "stdout",
          "text": [
            "Konwalai\n"
          ]
        }
      ]
    },
    {
      "cell_type": "markdown",
      "source": [
        "## surname"
      ],
      "metadata": {
        "id": "obTfkHziIZQN"
      }
    },
    {
      "cell_type": "code",
      "source": [
        "print('Sansing')"
      ],
      "metadata": {
        "colab": {
          "base_uri": "https://localhost:8080/"
        },
        "id": "ZsVMBAo_HTjr",
        "outputId": "57c2197b-b9e0-4abb-b304-94c1ee5ca207"
      },
      "execution_count": 3,
      "outputs": [
        {
          "output_type": "stream",
          "name": "stdout",
          "text": [
            "Sansing\n"
          ]
        }
      ]
    },
    {
      "cell_type": "code",
      "source": [],
      "metadata": {
        "id": "jN6WkkH1LLW-"
      },
      "execution_count": null,
      "outputs": []
    }
  ]
}